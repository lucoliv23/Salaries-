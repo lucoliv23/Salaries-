{
 "cells": [
  {
   "cell_type": "markdown",
   "id": "763d65f0",
   "metadata": {},
   "source": [
    "<h1> Context </h1>\n",
    "<p> Within this dataset are the salaries of several Data Science Fields in the Data Science Domain. \n",
    "The goal is to describe the characteristics of the data and then build a model that allows us to identify what the wage is according to different patterns identified earlier. </p>\n",
    "<h1> Data Dictionary </h1>\n",
    "<p> Data Science Job Salaries Dataset contains 11 columns, each are:\n",
    "    <ol>\n",
    "        <li> work_year: The year the salary was paid. </li>\n",
    "        <li>experience_level: The experience level in the job during the year</li>\n",
    "        <li>employment_type: The type of employment for the role</li>\n",
    "        <li>job_title: The role worked in during the year.</li>\n",
    "        <li>salary: The total gross salary amount paid.</li>\n",
    "        <li>salary_currency: The currency of the salary paid as an ISO 4217 currency code.</li>\n",
    "        <li>salaryinusd: The salary in USD</li>\n",
    "        <li>employee_residence: Employee's primary country of residence in during the work year as an ISO 3166 country code.</li>\n",
    "        <li>remote_ratio: The overall amount of work done remotely</li>\n",
    "        <li>company_location: The country of the employer's main office or contracting branch</li>\n",
    "        <li>company_size: The median number of people that worked for the company during the year</li>\n",
    "    </ol>\n",
    "</p>\n",
    "<h1> Approach to solve the problem </h1>\n",
    "<ol>\n",
    "    <li> Import the necessary libraries </li>\n",
    "    <li> Read the dataset and get an overview </li>\n",
    "    <li> EDA a.Univariante,b.Bivariante </li>\n",
    "    <li> Data preprocessing if any </li>\n",
    "    <li> Define the performance metric and build ML models </li>\n",
    "    <li> Compare models and determine the best one </li>\n",
    "    <li> Observations and business insights </li>\n",
    "</ol>"
   ]
  },
  {
   "cell_type": "markdown",
   "id": "0bfd1b00",
   "metadata": {},
   "source": [
    "<h2> Importing the necessary libraries and overview of the dataset </h2>"
   ]
  },
  {
   "cell_type": "code",
   "execution_count": 1,
   "id": "d434a5c0",
   "metadata": {},
   "outputs": [],
   "source": [
    "import numpy as np\n",
    "\n",
    "import pandas as pd\n",
    "\n",
    "import matplotlib.pyplot as plt\n",
    "\n",
    "import seaborn as sns\n",
    "\n",
    "import warnings\n",
    "warnings.filterwarnings('ignore')\n",
    "\n",
    "# Removes the limit for the number of displayed columns \n",
    "\n",
    "pd.set_option(\"display.max_columns\",None)\n",
    "\n",
    "#Sets the limit for the number of displayed rows\n",
    "\n",
    "pd.set_option(\"display.max_rows\",200)\n",
    "\n",
    "# To build models for prediction\n",
    "\n",
    "from sklearn.model_selection import train_test_split, cross_val_score, KFold\n",
    "\n",
    "from sklearn.linear_model import LinearRegression, Ridge, Lassob\n",
    "\n",
    "from sklearn.tree import DecisionTreeRegressor\n",
    "\n",
    "from sklearn.ensemble import RandomForestRegressor, BaggingRegressor\n",
    "\n",
    "from sklearn.preprocessing import LabelEncoder\n",
    "\n",
    "# For tuning the model \n",
    "\n",
    "from sklearn.model_selection import GridSearchCV\n",
    "\n",
    "# To check the model performance \n",
    "\n",
    "from sklearn.metrics import make_scorer, mean_squared_error, r2_score, mean_absolute_error"
   ]
  },
  {
   "cell_type": "markdown",
   "id": "1cce3a49",
   "metadata": {},
   "source": [
    "<h2> Loading the dataset </h2>"
   ]
  },
  {
   "cell_type": "code",
   "execution_count": 2,
   "id": "1ae01896",
   "metadata": {},
   "outputs": [],
   "source": [
    "# Load the Salaries Dataset\n",
    "\n",
    "data = pd.read_csv(\"ds_salaries.csv\")"
   ]
  },
  {
   "cell_type": "code",
   "execution_count": 3,
   "id": "664e5c48",
   "metadata": {},
   "outputs": [],
   "source": [
    "# Copy data to another variable to avoid any change to the original data \n",
    "\n",
    "same_data = data.copy()"
   ]
  },
  {
   "cell_type": "markdown",
   "id": "90284c30",
   "metadata": {},
   "source": [
    "<h2> Data Overview </h2>"
   ]
  },
  {
   "cell_type": "code",
   "execution_count": 4,
   "id": "6e7f2ef8",
   "metadata": {},
   "outputs": [
    {
     "data": {
      "text/html": [
       "<div>\n",
       "<style scoped>\n",
       "    .dataframe tbody tr th:only-of-type {\n",
       "        vertical-align: middle;\n",
       "    }\n",
       "\n",
       "    .dataframe tbody tr th {\n",
       "        vertical-align: top;\n",
       "    }\n",
       "\n",
       "    .dataframe thead th {\n",
       "        text-align: right;\n",
       "    }\n",
       "</style>\n",
       "<table border=\"1\" class=\"dataframe\">\n",
       "  <thead>\n",
       "    <tr style=\"text-align: right;\">\n",
       "      <th></th>\n",
       "      <th>work_year</th>\n",
       "      <th>experience_level</th>\n",
       "      <th>employment_type</th>\n",
       "      <th>job_title</th>\n",
       "      <th>salary</th>\n",
       "      <th>salary_currency</th>\n",
       "      <th>salary_in_usd</th>\n",
       "      <th>employee_residence</th>\n",
       "      <th>remote_ratio</th>\n",
       "      <th>company_location</th>\n",
       "      <th>company_size</th>\n",
       "    </tr>\n",
       "  </thead>\n",
       "  <tbody>\n",
       "    <tr>\n",
       "      <th>0</th>\n",
       "      <td>2023</td>\n",
       "      <td>SE</td>\n",
       "      <td>FT</td>\n",
       "      <td>Principal Data Scientist</td>\n",
       "      <td>80000</td>\n",
       "      <td>EUR</td>\n",
       "      <td>85847</td>\n",
       "      <td>ES</td>\n",
       "      <td>100</td>\n",
       "      <td>ES</td>\n",
       "      <td>L</td>\n",
       "    </tr>\n",
       "    <tr>\n",
       "      <th>1</th>\n",
       "      <td>2023</td>\n",
       "      <td>MI</td>\n",
       "      <td>CT</td>\n",
       "      <td>ML Engineer</td>\n",
       "      <td>30000</td>\n",
       "      <td>USD</td>\n",
       "      <td>30000</td>\n",
       "      <td>US</td>\n",
       "      <td>100</td>\n",
       "      <td>US</td>\n",
       "      <td>S</td>\n",
       "    </tr>\n",
       "    <tr>\n",
       "      <th>2</th>\n",
       "      <td>2023</td>\n",
       "      <td>MI</td>\n",
       "      <td>CT</td>\n",
       "      <td>ML Engineer</td>\n",
       "      <td>25500</td>\n",
       "      <td>USD</td>\n",
       "      <td>25500</td>\n",
       "      <td>US</td>\n",
       "      <td>100</td>\n",
       "      <td>US</td>\n",
       "      <td>S</td>\n",
       "    </tr>\n",
       "    <tr>\n",
       "      <th>3</th>\n",
       "      <td>2023</td>\n",
       "      <td>SE</td>\n",
       "      <td>FT</td>\n",
       "      <td>Data Scientist</td>\n",
       "      <td>175000</td>\n",
       "      <td>USD</td>\n",
       "      <td>175000</td>\n",
       "      <td>CA</td>\n",
       "      <td>100</td>\n",
       "      <td>CA</td>\n",
       "      <td>M</td>\n",
       "    </tr>\n",
       "    <tr>\n",
       "      <th>4</th>\n",
       "      <td>2023</td>\n",
       "      <td>SE</td>\n",
       "      <td>FT</td>\n",
       "      <td>Data Scientist</td>\n",
       "      <td>120000</td>\n",
       "      <td>USD</td>\n",
       "      <td>120000</td>\n",
       "      <td>CA</td>\n",
       "      <td>100</td>\n",
       "      <td>CA</td>\n",
       "      <td>M</td>\n",
       "    </tr>\n",
       "  </tbody>\n",
       "</table>\n",
       "</div>"
      ],
      "text/plain": [
       "   work_year experience_level employment_type                 job_title  \\\n",
       "0       2023               SE              FT  Principal Data Scientist   \n",
       "1       2023               MI              CT               ML Engineer   \n",
       "2       2023               MI              CT               ML Engineer   \n",
       "3       2023               SE              FT            Data Scientist   \n",
       "4       2023               SE              FT            Data Scientist   \n",
       "\n",
       "   salary salary_currency  salary_in_usd employee_residence  remote_ratio  \\\n",
       "0   80000             EUR          85847                 ES           100   \n",
       "1   30000             USD          30000                 US           100   \n",
       "2   25500             USD          25500                 US           100   \n",
       "3  175000             USD         175000                 CA           100   \n",
       "4  120000             USD         120000                 CA           100   \n",
       "\n",
       "  company_location company_size  \n",
       "0               ES            L  \n",
       "1               US            S  \n",
       "2               US            S  \n",
       "3               CA            M  \n",
       "4               CA            M  "
      ]
     },
     "execution_count": 4,
     "metadata": {},
     "output_type": "execute_result"
    }
   ],
   "source": [
    "# View the first 5 rows\n",
    "\n",
    "same_data.head(5)"
   ]
  },
  {
   "cell_type": "code",
   "execution_count": 5,
   "id": "456a4b2f",
   "metadata": {},
   "outputs": [
    {
     "data": {
      "text/html": [
       "<div>\n",
       "<style scoped>\n",
       "    .dataframe tbody tr th:only-of-type {\n",
       "        vertical-align: middle;\n",
       "    }\n",
       "\n",
       "    .dataframe tbody tr th {\n",
       "        vertical-align: top;\n",
       "    }\n",
       "\n",
       "    .dataframe thead th {\n",
       "        text-align: right;\n",
       "    }\n",
       "</style>\n",
       "<table border=\"1\" class=\"dataframe\">\n",
       "  <thead>\n",
       "    <tr style=\"text-align: right;\">\n",
       "      <th></th>\n",
       "      <th>work_year</th>\n",
       "      <th>experience_level</th>\n",
       "      <th>employment_type</th>\n",
       "      <th>job_title</th>\n",
       "      <th>salary</th>\n",
       "      <th>salary_currency</th>\n",
       "      <th>salary_in_usd</th>\n",
       "      <th>employee_residence</th>\n",
       "      <th>remote_ratio</th>\n",
       "      <th>company_location</th>\n",
       "      <th>company_size</th>\n",
       "    </tr>\n",
       "  </thead>\n",
       "  <tbody>\n",
       "    <tr>\n",
       "      <th>3750</th>\n",
       "      <td>2020</td>\n",
       "      <td>SE</td>\n",
       "      <td>FT</td>\n",
       "      <td>Data Scientist</td>\n",
       "      <td>412000</td>\n",
       "      <td>USD</td>\n",
       "      <td>412000</td>\n",
       "      <td>US</td>\n",
       "      <td>100</td>\n",
       "      <td>US</td>\n",
       "      <td>L</td>\n",
       "    </tr>\n",
       "    <tr>\n",
       "      <th>3751</th>\n",
       "      <td>2021</td>\n",
       "      <td>MI</td>\n",
       "      <td>FT</td>\n",
       "      <td>Principal Data Scientist</td>\n",
       "      <td>151000</td>\n",
       "      <td>USD</td>\n",
       "      <td>151000</td>\n",
       "      <td>US</td>\n",
       "      <td>100</td>\n",
       "      <td>US</td>\n",
       "      <td>L</td>\n",
       "    </tr>\n",
       "    <tr>\n",
       "      <th>3752</th>\n",
       "      <td>2020</td>\n",
       "      <td>EN</td>\n",
       "      <td>FT</td>\n",
       "      <td>Data Scientist</td>\n",
       "      <td>105000</td>\n",
       "      <td>USD</td>\n",
       "      <td>105000</td>\n",
       "      <td>US</td>\n",
       "      <td>100</td>\n",
       "      <td>US</td>\n",
       "      <td>S</td>\n",
       "    </tr>\n",
       "    <tr>\n",
       "      <th>3753</th>\n",
       "      <td>2020</td>\n",
       "      <td>EN</td>\n",
       "      <td>CT</td>\n",
       "      <td>Business Data Analyst</td>\n",
       "      <td>100000</td>\n",
       "      <td>USD</td>\n",
       "      <td>100000</td>\n",
       "      <td>US</td>\n",
       "      <td>100</td>\n",
       "      <td>US</td>\n",
       "      <td>L</td>\n",
       "    </tr>\n",
       "    <tr>\n",
       "      <th>3754</th>\n",
       "      <td>2021</td>\n",
       "      <td>SE</td>\n",
       "      <td>FT</td>\n",
       "      <td>Data Science Manager</td>\n",
       "      <td>7000000</td>\n",
       "      <td>INR</td>\n",
       "      <td>94665</td>\n",
       "      <td>IN</td>\n",
       "      <td>50</td>\n",
       "      <td>IN</td>\n",
       "      <td>L</td>\n",
       "    </tr>\n",
       "  </tbody>\n",
       "</table>\n",
       "</div>"
      ],
      "text/plain": [
       "      work_year experience_level employment_type                 job_title  \\\n",
       "3750       2020               SE              FT            Data Scientist   \n",
       "3751       2021               MI              FT  Principal Data Scientist   \n",
       "3752       2020               EN              FT            Data Scientist   \n",
       "3753       2020               EN              CT     Business Data Analyst   \n",
       "3754       2021               SE              FT      Data Science Manager   \n",
       "\n",
       "       salary salary_currency  salary_in_usd employee_residence  remote_ratio  \\\n",
       "3750   412000             USD         412000                 US           100   \n",
       "3751   151000             USD         151000                 US           100   \n",
       "3752   105000             USD         105000                 US           100   \n",
       "3753   100000             USD         100000                 US           100   \n",
       "3754  7000000             INR          94665                 IN            50   \n",
       "\n",
       "     company_location company_size  \n",
       "3750               US            L  \n",
       "3751               US            L  \n",
       "3752               US            S  \n",
       "3753               US            L  \n",
       "3754               IN            L  "
      ]
     },
     "execution_count": 5,
     "metadata": {},
     "output_type": "execute_result"
    }
   ],
   "source": [
    "# View the last 5 rows \n",
    "\n",
    "same_data.tail(5)"
   ]
  },
  {
   "cell_type": "code",
   "execution_count": 6,
   "id": "348f76ad",
   "metadata": {},
   "outputs": [
    {
     "data": {
      "text/plain": [
       "(3755, 11)"
      ]
     },
     "execution_count": 6,
     "metadata": {},
     "output_type": "execute_result"
    }
   ],
   "source": [
    "# Understand the shape of the data \n",
    "\n",
    "same_data.shape"
   ]
  },
  {
   "cell_type": "markdown",
   "id": "a1266d3d",
   "metadata": {},
   "source": [
    "<p> The dataset has 3755 rows and 11 columns </p>"
   ]
  },
  {
   "cell_type": "code",
   "execution_count": 7,
   "id": "3a45dc26",
   "metadata": {},
   "outputs": [
    {
     "name": "stdout",
     "output_type": "stream",
     "text": [
      "<class 'pandas.core.frame.DataFrame'>\n",
      "RangeIndex: 3755 entries, 0 to 3754\n",
      "Data columns (total 11 columns):\n",
      " #   Column              Non-Null Count  Dtype \n",
      "---  ------              --------------  ----- \n",
      " 0   work_year           3755 non-null   int64 \n",
      " 1   experience_level    3755 non-null   object\n",
      " 2   employment_type     3755 non-null   object\n",
      " 3   job_title           3755 non-null   object\n",
      " 4   salary              3755 non-null   int64 \n",
      " 5   salary_currency     3755 non-null   object\n",
      " 6   salary_in_usd       3755 non-null   int64 \n",
      " 7   employee_residence  3755 non-null   object\n",
      " 8   remote_ratio        3755 non-null   int64 \n",
      " 9   company_location    3755 non-null   object\n",
      " 10  company_size        3755 non-null   object\n",
      "dtypes: int64(4), object(7)\n",
      "memory usage: 322.8+ KB\n"
     ]
    }
   ],
   "source": [
    "# Checking the info of the data \n",
    "\n",
    "same_data.info()"
   ]
  },
  {
   "cell_type": "markdown",
   "id": "f4e9bef1",
   "metadata": {},
   "source": [
    "<b> Observations </b>:\n",
    "<ol>\n",
    "    <li> \"work_year\", \"salary\", \"salary_in_usd\" and \"remote_ratio\" are numeric data type and the rest of the columns are object data type </li>\n",
    "    <li> The number of non-null values is the same as the total number of entries in the data i.e. there are no null values</li>\n",
    "    </ol>\n"
   ]
  },
  {
   "cell_type": "code",
   "execution_count": 8,
   "id": "8038ef92",
   "metadata": {},
   "outputs": [
    {
     "data": {
      "text/plain": [
       "0.3118508655126498"
      ]
     },
     "execution_count": 8,
     "metadata": {},
     "output_type": "execute_result"
    }
   ],
   "source": [
    "# Checking for duplicate values in the Data \n",
    "\n",
    "same_data.duplicated().sum()/same_data.shape[0]"
   ]
  },
  {
   "cell_type": "markdown",
   "id": "bcfc9815",
   "metadata": {},
   "source": [
    "<p>More or less 30% of the rows are duplicated. This would lead to errors in model construction. \n",
    "Let us therefore remove these unnecessary rows.</p>"
   ]
  },
  {
   "cell_type": "code",
   "execution_count": 9,
   "id": "c8387e3d",
   "metadata": {},
   "outputs": [],
   "source": [
    "# Remove duplicate \n",
    "\n",
    "# same_data.drop_duplicates(inplace= True)"
   ]
  },
  {
   "cell_type": "markdown",
   "id": "f64da9d2",
   "metadata": {},
   "source": [
    "<h2> EDA </h2>\n",
    "<h3> Univariante Analysis </h3>"
   ]
  },
  {
   "cell_type": "code",
   "execution_count": 10,
   "id": "dffbabe6",
   "metadata": {},
   "outputs": [
    {
     "data": {
      "text/html": [
       "<div>\n",
       "<style scoped>\n",
       "    .dataframe tbody tr th:only-of-type {\n",
       "        vertical-align: middle;\n",
       "    }\n",
       "\n",
       "    .dataframe tbody tr th {\n",
       "        vertical-align: top;\n",
       "    }\n",
       "\n",
       "    .dataframe thead th {\n",
       "        text-align: right;\n",
       "    }\n",
       "</style>\n",
       "<table border=\"1\" class=\"dataframe\">\n",
       "  <thead>\n",
       "    <tr style=\"text-align: right;\">\n",
       "      <th></th>\n",
       "      <th>count</th>\n",
       "      <th>mean</th>\n",
       "      <th>std</th>\n",
       "      <th>min</th>\n",
       "      <th>25%</th>\n",
       "      <th>50%</th>\n",
       "      <th>75%</th>\n",
       "      <th>max</th>\n",
       "    </tr>\n",
       "  </thead>\n",
       "  <tbody>\n",
       "    <tr>\n",
       "      <th>work_year</th>\n",
       "      <td>3755.0</td>\n",
       "      <td>2022.373635</td>\n",
       "      <td>0.691448</td>\n",
       "      <td>2020.0</td>\n",
       "      <td>2022.0</td>\n",
       "      <td>2022.0</td>\n",
       "      <td>2023.0</td>\n",
       "      <td>2023.0</td>\n",
       "    </tr>\n",
       "    <tr>\n",
       "      <th>salary</th>\n",
       "      <td>3755.0</td>\n",
       "      <td>190695.571771</td>\n",
       "      <td>671676.500508</td>\n",
       "      <td>6000.0</td>\n",
       "      <td>100000.0</td>\n",
       "      <td>138000.0</td>\n",
       "      <td>180000.0</td>\n",
       "      <td>30400000.0</td>\n",
       "    </tr>\n",
       "    <tr>\n",
       "      <th>salary_in_usd</th>\n",
       "      <td>3755.0</td>\n",
       "      <td>137570.389880</td>\n",
       "      <td>63055.625278</td>\n",
       "      <td>5132.0</td>\n",
       "      <td>95000.0</td>\n",
       "      <td>135000.0</td>\n",
       "      <td>175000.0</td>\n",
       "      <td>450000.0</td>\n",
       "    </tr>\n",
       "    <tr>\n",
       "      <th>remote_ratio</th>\n",
       "      <td>3755.0</td>\n",
       "      <td>46.271638</td>\n",
       "      <td>48.589050</td>\n",
       "      <td>0.0</td>\n",
       "      <td>0.0</td>\n",
       "      <td>0.0</td>\n",
       "      <td>100.0</td>\n",
       "      <td>100.0</td>\n",
       "    </tr>\n",
       "  </tbody>\n",
       "</table>\n",
       "</div>"
      ],
      "text/plain": [
       "                count           mean            std     min       25%  \\\n",
       "work_year      3755.0    2022.373635       0.691448  2020.0    2022.0   \n",
       "salary         3755.0  190695.571771  671676.500508  6000.0  100000.0   \n",
       "salary_in_usd  3755.0  137570.389880   63055.625278  5132.0   95000.0   \n",
       "remote_ratio   3755.0      46.271638      48.589050     0.0       0.0   \n",
       "\n",
       "                    50%       75%         max  \n",
       "work_year        2022.0    2023.0      2023.0  \n",
       "salary         138000.0  180000.0  30400000.0  \n",
       "salary_in_usd  135000.0  175000.0    450000.0  \n",
       "remote_ratio        0.0     100.0       100.0  "
      ]
     },
     "execution_count": 10,
     "metadata": {},
     "output_type": "execute_result"
    }
   ],
   "source": [
    "# Checking the descriptive statistics of the columns \n",
    "\n",
    "same_data.describe().T"
   ]
  },
  {
   "cell_type": "markdown",
   "id": "b9c450b8",
   "metadata": {},
   "source": [
    "<b> Observations </b>:\n",
    "<ol>\n",
    "    <li> We can see that for the variable \"salary\" the mean is greater than the median, so we can say that the distribution of values is right skewed. This may be due to the fact that the values are expressed in different currencies from each other and thus are not comparable. </li>\n",
    "    <li> Regarding the variable \"salary_in_usd\" we note that the mean and median are similar. This allows us to assume that the distribution is centered and symmetrical. Unlike the \"salary\" column in this case all salaries are expressed in the USD currency. In this case we would need to assess what currency exchange rate was used since we have rows with different years and therefore exchange rates that might be different from each other. </li>\n",
    "    <li> Regarding the variable \"remote_ratio\" we can see that they are a 25% of the rows that we can examine have a rate of 100%, and thus only 25% of the questioned workers work in full remote. </li>\n",
    "</ol>"
   ]
  },
  {
   "cell_type": "code",
   "execution_count": 11,
   "id": "6928d993",
   "metadata": {
    "scrolled": false
   },
   "outputs": [
    {
     "name": "stdout",
     "output_type": "stream",
     "text": [
      "experience_level\n",
      "\n",
      "SE    0.670040\n",
      "MI    0.214381\n",
      "EN    0.085220\n",
      "EX    0.030360\n",
      "Name: experience_level, dtype: float64\n",
      "--------------------------------------------------\n",
      "employment_type\n",
      "\n",
      "FT    0.990146\n",
      "PT    0.004527\n",
      "CT    0.002663\n",
      "FL    0.002663\n",
      "Name: employment_type, dtype: float64\n",
      "--------------------------------------------------\n",
      "job_title\n",
      "\n",
      "Data Engineer                               0.276964\n",
      "Data Scientist                              0.223702\n",
      "Data Analyst                                0.162983\n",
      "Machine Learning Engineer                   0.076964\n",
      "Analytics Engineer                          0.027430\n",
      "Data Architect                              0.026897\n",
      "Research Scientist                          0.021838\n",
      "Data Science Manager                        0.015446\n",
      "Applied Scientist                           0.015446\n",
      "Research Engineer                           0.009854\n",
      "ML Engineer                                 0.009055\n",
      "Data Manager                                0.007723\n",
      "Machine Learning Scientist                  0.006924\n",
      "Data Science Consultant                     0.006391\n",
      "Data Analytics Manager                      0.005859\n",
      "Computer Vision Engineer                    0.004794\n",
      "AI Scientist                                0.004261\n",
      "BI Data Analyst                             0.003995\n",
      "Business Data Analyst                       0.003995\n",
      "Data Specialist                             0.003728\n",
      "BI Developer                                0.003462\n",
      "Applied Machine Learning Scientist          0.003196\n",
      "Machine Learning Infrastructure Engineer    0.002929\n",
      "Big Data Engineer                           0.002929\n",
      "Director of Data Science                    0.002929\n",
      "AI Developer                                0.002929\n",
      "Applied Data Scientist                      0.002663\n",
      "Head of Data                                0.002663\n",
      "Machine Learning Software Engineer          0.002663\n",
      "Data Operations Engineer                    0.002663\n",
      "ETL Developer                               0.002663\n",
      "BI Analyst                                  0.002397\n",
      "Head of Data Science                        0.002397\n",
      "Lead Data Scientist                         0.002397\n",
      "Data Science Lead                           0.002130\n",
      "Principal Data Scientist                    0.002130\n",
      "Data Quality Analyst                        0.001864\n",
      "NLP Engineer                                0.001864\n",
      "Machine Learning Developer                  0.001864\n",
      "Data Infrastructure Engineer                0.001598\n",
      "Lead Data Engineer                          0.001598\n",
      "Machine Learning Researcher                 0.001598\n",
      "Deep Learning Engineer                      0.001598\n",
      "Data Analytics Engineer                     0.001598\n",
      "Lead Data Analyst                           0.001332\n",
      "Cloud Database Engineer                     0.001332\n",
      "Computer Vision Software Engineer           0.001332\n",
      "Product Data Analyst                        0.001332\n",
      "Data Science Engineer                       0.001332\n",
      "MLOps Engineer                              0.001065\n",
      "3D Computer Vision Researcher               0.001065\n",
      "Business Intelligence Engineer              0.001065\n",
      "Data Operations Analyst                     0.001065\n",
      "Machine Learning Research Engineer          0.001065\n",
      "Cloud Data Engineer                         0.000799\n",
      "Machine Learning Manager                    0.000799\n",
      "Lead Machine Learning Engineer              0.000799\n",
      "Financial Data Analyst                      0.000799\n",
      "Data Scientist Lead                         0.000533\n",
      "Data Analytics Consultant                   0.000533\n",
      "Marketing Data Analyst                      0.000533\n",
      "Data Modeler                                0.000533\n",
      "Principal Data Analyst                      0.000533\n",
      "Principal Data Engineer                     0.000533\n",
      "Data Lead                                   0.000533\n",
      "Autonomous Vehicle Technician               0.000533\n",
      "Insight Analyst                             0.000533\n",
      "ETL Engineer                                0.000533\n",
      "Data Analytics Lead                         0.000533\n",
      "Applied Machine Learning Engineer           0.000533\n",
      "Data Analytics Specialist                   0.000533\n",
      "AI Programmer                               0.000533\n",
      "Data Strategist                             0.000533\n",
      "Big Data Architect                          0.000533\n",
      "Software Data Engineer                      0.000533\n",
      "Principal Data Architect                    0.000266\n",
      "Head of Machine Learning                    0.000266\n",
      "Cloud Data Architect                        0.000266\n",
      "Data DevOps Engineer                        0.000266\n",
      "BI Data Engineer                            0.000266\n",
      "Staff Data Scientist                        0.000266\n",
      "Deep Learning Researcher                    0.000266\n",
      "Staff Data Analyst                          0.000266\n",
      "Product Data Scientist                      0.000266\n",
      "Power BI Developer                          0.000266\n",
      "Compliance Data Analyst                     0.000266\n",
      "Data Science Tech Lead                      0.000266\n",
      "Data Management Specialist                  0.000266\n",
      "Principal Machine Learning Engineer         0.000266\n",
      "Azure Data Engineer                         0.000266\n",
      "Manager Data Management                     0.000266\n",
      "Marketing Data Engineer                     0.000266\n",
      "Finance Data Analyst                        0.000266\n",
      "Name: job_title, dtype: float64\n",
      "--------------------------------------------------\n",
      "company_size\n",
      "\n",
      "M    0.839680\n",
      "L    0.120905\n",
      "S    0.039414\n",
      "Name: company_size, dtype: float64\n",
      "--------------------------------------------------\n",
      "remote_ratio\n",
      "\n",
      "0      0.512117\n",
      "100    0.437550\n",
      "50     0.050333\n",
      "Name: remote_ratio, dtype: float64\n",
      "--------------------------------------------------\n",
      "company_location\n",
      "\n",
      "US    0.809587\n",
      "GB    0.045806\n",
      "CA    0.023169\n",
      "ES    0.020506\n",
      "IN    0.015446\n",
      "DE    0.014913\n",
      "FR    0.009055\n",
      "BR    0.003995\n",
      "AU    0.003728\n",
      "GR    0.003728\n",
      "PT    0.003728\n",
      "NL    0.003462\n",
      "MX    0.002663\n",
      "IE    0.001864\n",
      "SG    0.001598\n",
      "AT    0.001598\n",
      "JP    0.001598\n",
      "TR    0.001332\n",
      "CH    0.001332\n",
      "NG    0.001332\n",
      "PL    0.001332\n",
      "PK    0.001065\n",
      "LV    0.001065\n",
      "DK    0.001065\n",
      "IT    0.001065\n",
      "PR    0.001065\n",
      "SI    0.001065\n",
      "BE    0.001065\n",
      "CO    0.001065\n",
      "UA    0.001065\n",
      "HR    0.000799\n",
      "TH    0.000799\n",
      "RU    0.000799\n",
      "AR    0.000799\n",
      "CZ    0.000799\n",
      "AE    0.000799\n",
      "FI    0.000799\n",
      "AS    0.000799\n",
      "LU    0.000799\n",
      "HU    0.000533\n",
      "ID    0.000533\n",
      "LT    0.000533\n",
      "RO    0.000533\n",
      "SE    0.000533\n",
      "KE    0.000533\n",
      "EE    0.000533\n",
      "CF    0.000533\n",
      "IL    0.000533\n",
      "GH    0.000533\n",
      "EG    0.000266\n",
      "MD    0.000266\n",
      "CL    0.000266\n",
      "NZ    0.000266\n",
      "CN    0.000266\n",
      "IQ    0.000266\n",
      "DZ    0.000266\n",
      "HK    0.000266\n",
      "HN    0.000266\n",
      "MY    0.000266\n",
      "AL    0.000266\n",
      "MA    0.000266\n",
      "PH    0.000266\n",
      "BO    0.000266\n",
      "VN    0.000266\n",
      "AM    0.000266\n",
      "BA    0.000266\n",
      "SK    0.000266\n",
      "MK    0.000266\n",
      "BS    0.000266\n",
      "IR    0.000266\n",
      "CR    0.000266\n",
      "MT    0.000266\n",
      "Name: company_location, dtype: float64\n",
      "--------------------------------------------------\n"
     ]
    }
   ],
   "source": [
    "# List of all important categorical variables \n",
    "\n",
    "cat_col= [\"experience_level\", \"employment_type\", \"job_title\", \"company_size\", \"remote_ratio\", \"company_location\" ]\n",
    "\n",
    "for column in cat_col:\n",
    "    \n",
    "    print(column, end=\"\\n\\n\")\n",
    "    \n",
    "    print(same_data[column].value_counts(normalize= True))\n",
    "    \n",
    "    print(\"-\"*50)"
   ]
  },
  {
   "cell_type": "code",
   "execution_count": 12,
   "id": "c7c01b26",
   "metadata": {},
   "outputs": [],
   "source": [
    "list_company_location = [\"US\",\"GB\",\"CA\", \"IN\", \"DE\", \"ES\", \"FR\"]\n",
    "same_data[\"company_location\"] = [same_data.loc[i,\"company_location\"] if same_data.loc[i,\"company_location\"] in list_company_location else \"OTHER\" for i in same_data.index ]"
   ]
  },
  {
   "cell_type": "code",
   "execution_count": 13,
   "id": "aafb3d7d",
   "metadata": {},
   "outputs": [],
   "source": [
    "list_job_title = [\"Data Engineer\",\"Data Scientist\",\"Data Analyst\", \"Machine Learning Engineer\",\"Analytics Engineer\", \"Research Scientist\",\"Data Science Manager\"\n",
    "                  ,\"Research Engineer\",\"Applied Scientist\", \"Machine Learning Scientist\"]\n",
    "same_data[\"job_title\"] = [same_data.loc[i,\"job_title\"] if same_data.loc[i,\"job_title\"] in list_job_title else \"OTHER\" for i in same_data.index ]"
   ]
  },
  {
   "cell_type": "markdown",
   "id": "ac0053be",
   "metadata": {},
   "source": [
    "<b> Observations </b>:\n",
    "<ol>\n",
    "    <li> We can see that 60% of the workers have a lot of experience in the field, and more than 85% have a mid or senior level of experience. </li>\n",
    "    <li> 98% of workers have a full-time contract, this variable therefore is not so discriminatory in defining the wage level </li>\n",
    "    <li> We have a lot of job titles, although about 60% of workers can be encapsulated in 3 categories: Data Engineer, Data Scientist and Data Analyst </li>\n",
    "    <li> About 80% work for medium-sized companies </li>\n",
    "</ol>\n"
   ]
  },
  {
   "cell_type": "code",
   "execution_count": 14,
   "id": "b5bea2ef",
   "metadata": {},
   "outputs": [],
   "source": [
    "# Function to plot a boxplot and a histogram along the same scale \n",
    "\n",
    "def histogram_boxplot(data, feature, figsize= (12,7), kde= False, bins= None):\n",
    "    \"\"\"\n",
    "    Boxplot and histogram combined\n",
    "    \n",
    "    data: dataframe\n",
    "    \n",
    "    feature: dataframe column\n",
    "    \n",
    "    figszie: size of the figure (default(12,7))\n",
    "    \n",
    "    kde: whther to show density curve (default False)\n",
    "    \n",
    "    bins: number of bins for histogram (default None)\n",
    "    \"\"\"\n",
    "    \n",
    "    f2, (ax_box2, ax_hist2) = plt.subplots(\n",
    "        \n",
    "        nrows= 2,\n",
    "        \n",
    "        sharex= True,\n",
    "        \n",
    "        gridspec_kw={\"height_ratios\": (0.25, 0.75)},\n",
    "        \n",
    "        figsize = figsize\n",
    "    )\n",
    "    \n",
    "    sns.boxplot(\n",
    "        data= data, x= feature, ax= ax_box2, showmeans= True, color= 'violet'\n",
    "    )\n",
    "    \n",
    "    sns.histplot(\n",
    "        data= data, x= feature, ax= ax_hist2, kde= kde, bins= bins, palette= \"winter\"\n",
    "    ) if bins else sns.histplot(\n",
    "        data= data, x= feature, kde= kde, ax= ax_hist2\n",
    "    )\n",
    "    \n",
    "    ax_hist2.axvline(\n",
    "        data[feature].mean(), color= 'green', linestyle= \"--\"\n",
    "    )\n",
    "    \n",
    "    ax_hist2.axvline(\n",
    "        data[feature].median(), color= 'black', linestyle='-'\n",
    "    )"
   ]
  },
  {
   "cell_type": "markdown",
   "id": "d43d1418",
   "metadata": {},
   "source": [
    "<h5> salary </h5>"
   ]
  },
  {
   "cell_type": "code",
   "execution_count": 15,
   "id": "0131267b",
   "metadata": {},
   "outputs": [
    {
     "data": {
      "image/png": "[encoded data removed]",
      "text/plain": [
       "<Figure size 1200x700 with 2 Axes>"
      ]
     },
     "metadata": {},
     "output_type": "display_data"
    }
   ],
   "source": [
    "histogram_boxplot(same_data, \"salary\", kde= True)"
   ]
  },
  {
   "cell_type": "markdown",
   "id": "f2503674",
   "metadata": {},
   "source": [
    "<p><b> Observations </b>: As we assumed earlier, by not having the same unit of measurement the distribution of wages is distinctly right skewed. This could lead us into error, for it would appear that the distribution of wages is highly skewed. However, we expect that by going to consider the \"salary_in_usd\" column this asymmetry is no longer so pronounced.</p>"
   ]
  },
  {
   "cell_type": "markdown",
   "id": "db725953",
   "metadata": {},
   "source": [
    "<h5> salary_in_usd</h5>"
   ]
  },
  {
   "cell_type": "code",
   "execution_count": 16,
   "id": "fcafe05e",
   "metadata": {},
   "outputs": [
    {
     "data": {
      "image/png": "[encoded data removed]",
      "text/plain": [
       "<Figure size 1200x700 with 2 Axes>"
      ]
     },
     "metadata": {},
     "output_type": "display_data"
    }
   ],
   "source": [
    "histogram_boxplot(same_data, \"salary_in_usd\", kde= True)"
   ]
  },
  {
   "cell_type": "markdown",
   "id": "82eff778",
   "metadata": {},
   "source": [
    "<p><b> Observations </b>: In this case we can see that the distribution seems more centered. We have a few workers who exceed 300 000 USD annually but cannot be considered as outliers. </p>"
   ]
  },
  {
   "cell_type": "code",
   "execution_count": 17,
   "id": "176c4b75",
   "metadata": {},
   "outputs": [],
   "source": [
    "# Function to create barplot \n",
    "\n",
    "def countplot_func(data, x_feature, hue= None, figsize= (12, 7), orient= None):\n",
    "    \"\"\"\n",
    "    countplot\n",
    "    \n",
    "    data: dataframe\n",
    "    \n",
    "    feature: dataframe column\n",
    "    \n",
    "    figszie: size of the figure (default(12,7))\n",
    "    \n",
    "    hue: groups (default None)\n",
    "    \n",
    "    orient: if you want vertical or horizontal graph(default None)\n",
    "    \"\"\"\n",
    "    \n",
    "    fig = plt.figure(figsize= figsize)\n",
    "    \n",
    "    sns.countplot(data= data, x= x_feature, hue= hue, orient= orient, palette= sns.color_palette(\"muted\"), dodge= False)\n",
    "    \n",
    "    plt.title(\"Analysis \" + x_feature )\n",
    "    \n",
    "    plt.xlabel(x_feature)\n",
    "    \n",
    "    plt.show()"
   ]
  },
  {
   "cell_type": "markdown",
   "id": "553a9279",
   "metadata": {},
   "source": [
    "<h5> company_size </h5>"
   ]
  },
  {
   "cell_type": "code",
   "execution_count": 18,
   "id": "0aa03b87",
   "metadata": {},
   "outputs": [
    {
     "data": {
      "image/png": "[encoded data removed]",
      "text/plain": [
       "<Figure size 1200x700 with 1 Axes>"
      ]
     },
     "metadata": {},
     "output_type": "display_data"
    }
   ],
   "source": [
    "countplot_func(same_data, \"company_size\", \"company_size\")"
   ]
  },
  {
   "cell_type": "markdown",
   "id": "24773698",
   "metadata": {},
   "source": [
    "<p><b> Observations </b>: We can see that most of the workers work at medium-sized companies (about 79 percent). The remainder is divided between large-scale (about 16%) and small-scale (about 5%) companies. Apparently, the companies that invest the most in this field seem to be medium-sized companies. However, this may also be incorrect since it is likely that in numbers medium-sized companies are greater than large companies. </p>"
   ]
  },
  {
   "cell_type": "markdown",
   "id": "f07b51ba",
   "metadata": {},
   "source": [
    "<h5> remote_ratio </h5>"
   ]
  },
  {
   "cell_type": "code",
   "execution_count": 19,
   "id": "c46781ab",
   "metadata": {
    "scrolled": false
   },
   "outputs": [
    {
     "data": {
      "image/png": "[encoded data removed]",
      "text/plain": [
       "<Figure size 1200x700 with 1 Axes>"
      ]
     },
     "metadata": {},
     "output_type": "display_data"
    }
   ],
   "source": [
    "countplot_func(same_data, \"remote_ratio\", \"remote_ratio\")"
   ]
  },
  {
   "cell_type": "markdown",
   "id": "4486a824",
   "metadata": {},
   "source": [
    "<p><b> Observations</b>: We note that the variable \"remote_ratio\" is divided roughly equally between those who do not have the option of smart working and those who do have the option of full-remote working. We then have a small percentage (about 7 percent) who instead enjoy a 50-50 hybrid solution.</p>"
   ]
  },
  {
   "cell_type": "markdown",
   "id": "2a4619c1",
   "metadata": {},
   "source": [
    "<h5>employment_type</h5>"
   ]
  },
  {
   "cell_type": "code",
   "execution_count": 20,
   "id": "e5e89b3d",
   "metadata": {},
   "outputs": [
    {
     "data": {
      "image/png": "[encoded data removed]",
      "text/plain": [
       "<Figure size 1200x700 with 1 Axes>"
      ]
     },
     "metadata": {},
     "output_type": "display_data"
    }
   ],
   "source": [
    "countplot_func(same_data, \"employment_type\", \"employment_type\")"
   ]
  },
  {
   "cell_type": "markdown",
   "id": "dda42551",
   "metadata": {},
   "source": [
    "<p><b> Observations </b>: In this case we can say that almost all workers have full-time contracts with very few exceptions among other classes.</p>"
   ]
  },
  {
   "cell_type": "markdown",
   "id": "b047539d",
   "metadata": {},
   "source": [
    "<h3> Bivariante Analysis </h3>"
   ]
  },
  {
   "cell_type": "markdown",
   "id": "dec85420",
   "metadata": {},
   "source": [
    "<p> As a first step we go to see if there is correlation between the different variables we have within the dataset  </p>"
   ]
  },
  {
   "cell_type": "code",
   "execution_count": 21,
   "id": "e392ea27",
   "metadata": {},
   "outputs": [
    {
     "data": {
      "image/png": "[encoded data removed]",
      "text/plain": [
       "<Figure size 1200x700 with 2 Axes>"
      ]
     },
     "metadata": {},
     "output_type": "display_data"
    }
   ],
   "source": [
    "# Finding the correlation between various columns of the dataset \n",
    "\n",
    "plt.figure(figsize= (12, 7))\n",
    "\n",
    "sns.heatmap(same_data.corr(), annot= True, vmin= -1, vmax= 1, fmt= \".2f\", cmap= \"Spectral\")\n",
    "\n",
    "plt.show()"
   ]
  },
  {
   "cell_type": "markdown",
   "id": "ef67532c",
   "metadata": {},
   "source": [
    "<p><b> Observations </b>:\n",
    "    <ol>\n",
    "        <li> The heatmap shows that there is no correlation between variables </li>\n",
    "        <li> The continuos variables show no correlation with the target variable which indicates that the categorical variables might be more important for the prediction </li>\n",
    "    </ol>\n",
    "</p>"
   ]
  },
  {
   "cell_type": "code",
   "execution_count": 22,
   "id": "67565728",
   "metadata": {},
   "outputs": [],
   "source": [
    "# Function to plot stacked bar \n",
    "\n",
    "def stacked_barplot(data, predictor, target):\n",
    "    \"\"\"\n",
    "    Print the category counts and plot a stacked bar chart\n",
    "\n",
    "    data: dataframe\n",
    "    \n",
    "    predictor: independent variable\n",
    "    \n",
    "    target: target variable\n",
    "    \"\"\"\n",
    "    \n",
    "    count = data[predictor].nunique()\n",
    "    \n",
    "    sorter= data[target].value_counts().index[-1]\n",
    "    \n",
    "    tab1= pd.crosstab(data[predictor], data[target], margins= True).sort_values(by= sorter, ascending= False)\n",
    "    \n",
    "    print(tab1)\n",
    "    \n",
    "    print(\"_\"*120)\n",
    "    \n",
    "    tab= pd.crosstab(data[predictor], data[target], normalize= \"index\").sort_values(by= sorter, ascending= False)\n",
    "    \n",
    "    tab.plot(kind= 'bar', stacked= True, figsize= (count +1, 5))\n",
    "    \n",
    "    plt.legend(\n",
    "        loc= \"lower left\",\n",
    "        frameon= False\n",
    "    )\n",
    "    \n",
    "    plt.legend(loc= \"upper left\", bbox_to_anchor= (1,1))\n",
    "    \n",
    "    plt.show()"
   ]
  },
  {
   "cell_type": "markdown",
   "id": "da2c3d94",
   "metadata": {},
   "source": [
    "<h5> Let's start by checking the distribution of the Experience by salary_in_usd </h5>"
   ]
  },
  {
   "cell_type": "code",
   "execution_count": 23,
   "id": "8decb7b4",
   "metadata": {},
   "outputs": [
    {
     "data": {
      "image/png": "[encoded data removed]",
      "text/plain": [
       "<Figure size 640x480 with 1 Axes>"
      ]
     },
     "metadata": {},
     "output_type": "display_data"
    }
   ],
   "source": [
    "sns.barplot(y= \"experience_level\", x= \"salary_in_usd\", data= same_data)\n",
    "\n",
    "plt.show()"
   ]
  },
  {
   "cell_type": "markdown",
   "id": "a950d73c",
   "metadata": {},
   "source": [
    "<p><b> Observations</b>: We can see that positions with \"EX\" level experience tend to earn about 20k USD more than the exactly previous experience level i.e. \"SE\". \n",
    "In any case we can see that experience level is a good indicator of expected salary.</p>"
   ]
  },
  {
   "cell_type": "markdown",
   "id": "8de320c5",
   "metadata": {},
   "source": [
    "<h5> Let's check the \"experience_level\" vs \"company_size\" </h5>"
   ]
  },
  {
   "cell_type": "code",
   "execution_count": 24,
   "id": "086f74b3",
   "metadata": {},
   "outputs": [
    {
     "name": "stdout",
     "output_type": "stream",
     "text": [
      "company_size        L     M    S   All\n",
      "experience_level                      \n",
      "All               454  3153  148  3755\n",
      "MI                134   621   50   805\n",
      "EN                100   171   49   320\n",
      "SE                207  2266   43  2516\n",
      "EX                 13    95    6   114\n",
      "________________________________________________________________________________________________________________________\n"
     ]
    },
    {
     "data": {
      "image/png": "[encoded data removed]",
      "text/plain": [
       "<Figure size 500x500 with 1 Axes>"
      ]
     },
     "metadata": {},
     "output_type": "display_data"
    }
   ],
   "source": [
    "stacked_barplot(same_data, \"experience_level\", \"company_size\")"
   ]
  },
  {
   "cell_type": "markdown",
   "id": "56d58164",
   "metadata": {},
   "source": [
    "<p><b>Observations</b>:\n",
    "    <ol>\n",
    "        <li> Regarding \"EN\" level we note that it is found more in very large companies than other experience levels that are found much less in large companies. \n",
    "        </li>\n",
    "        <li> Interesting are the other levels, in fact the positions with \"SE\" experience we find them much less than the small companies.</li>\n",
    "        <li> On the other hand, regarding the aspects of \"EX\" level positions, it is interesting to see that they are found more in medium-sized companies than in other companies. This is perhaps because the dataset contains mostly medium-sized companies</li>\n",
    "    </ol>\n",
    "</p>"
   ]
  },
  {
   "cell_type": "markdown",
   "id": "a9fd2fdf",
   "metadata": {},
   "source": [
    "<h5> Let's check the \"company_size\" vs \"salary_in_usd\" </h5>"
   ]
  },
  {
   "cell_type": "code",
   "execution_count": 25,
   "id": "e1b86ae2",
   "metadata": {},
   "outputs": [
    {
     "data": {
      "image/png": "[encoded data removed]",
      "text/plain": [
       "<Figure size 640x480 with 1 Axes>"
      ]
     },
     "metadata": {},
     "output_type": "display_data"
    }
   ],
   "source": [
    "sns.barplot(y= \"company_size\", x= \"salary_in_usd\", data= same_data, hue=\"experience_level\")\n",
    "\n",
    "plt.show()"
   ]
  },
  {
   "cell_type": "markdown",
   "id": "6ece002a",
   "metadata": {},
   "source": [
    "<p><b> Observations</b>:In general we can see that salaries are higher in medium-sized companies, where we notice that depending on the level of experience being considered we have a higher average salary when compared to the same categories in large or small companies. </p>"
   ]
  },
  {
   "cell_type": "markdown",
   "id": "9edce5cc",
   "metadata": {},
   "source": [
    "<h5> Let's check \"remote_ratio\" vs \"company_size\" </h5>"
   ]
  },
  {
   "cell_type": "code",
   "execution_count": 26,
   "id": "991a91c5",
   "metadata": {},
   "outputs": [
    {
     "name": "stdout",
     "output_type": "stream",
     "text": [
      "company_size    L     M    S   All\n",
      "remote_ratio                      \n",
      "All           454  3153  148  3755\n",
      "100           220  1332   91  1643\n",
      "50            110    47   32   189\n",
      "0             124  1774   25  1923\n",
      "________________________________________________________________________________________________________________________\n"
     ]
    },
    {
     "data": {
      "image/png": "[encoded data removed]",
      "text/plain": [
       "<Figure size 400x500 with 1 Axes>"
      ]
     },
     "metadata": {},
     "output_type": "display_data"
    }
   ],
   "source": [
    "stacked_barplot(same_data, \"remote_ratio\", \"company_size\")"
   ]
  },
  {
   "cell_type": "markdown",
   "id": "b32f35a2",
   "metadata": {},
   "source": [
    "<p><b> Observations </b>: We note how the hybrid solution is made available more in large-scale companies, while the full-remote solution is made available more in medium-sized companies. </p>"
   ]
  },
  {
   "cell_type": "markdown",
   "id": "ce1791a1",
   "metadata": {},
   "source": [
    "<h2> Data Preparation for Model Buildin </h2>"
   ]
  },
  {
   "cell_type": "markdown",
   "id": "14631ed2",
   "metadata": {},
   "source": [
    "<p>\n",
    "    <ol>\n",
    "        <li> Before to procede we have to drop some useless columns </li>\n",
    "        <li> After that we have to encode the categorical variables </li>\n",
    "        <li> Separate independent variables and the dependent variables </li>\n",
    "        <li> We'll split the data into train and test to be able to evaluate the model that we train on the training data </li>\n",
    "    </ol>\n",
    "</p>"
   ]
  },
  {
   "cell_type": "markdown",
   "id": "93a5c8ab",
   "metadata": {},
   "source": [
    "<p> We remove \"salary\" variable because do not have the same currency, \"salary_currency\" because we measure all the salaries in USD and \"job_title\" because we have a lot of different job_title. Maybe in a future versions of the model we can feature engeeniring this variables in order to have 4 or 5 different job titles and get better results. </p>"
   ]
  },
  {
   "cell_type": "code",
   "execution_count": 27,
   "id": "fa642837",
   "metadata": {},
   "outputs": [],
   "source": [
    "# Drop some useless columns\n",
    "\n",
    "same_data = same_data.drop(columns=[\"salary\", \"salary_currency\",\"employee_residence\",])"
   ]
  },
  {
   "cell_type": "code",
   "execution_count": 28,
   "id": "a7f3fda2",
   "metadata": {},
   "outputs": [],
   "source": [
    "# Creating dummy variables for the categorical columns, drop_first = True is used to avoid redundant variables \n",
    "\n",
    "same_data = pd.get_dummies(same_data,\n",
    "                          columns=[\"remote_ratio\",\"company_size\",\"employment_type\", \"experience_level\",\n",
    "                                  \"company_location\",\"job_title\"],\n",
    "                          drop_first= True)"
   ]
  },
  {
   "cell_type": "code",
   "execution_count": 29,
   "id": "4b4c11d9",
   "metadata": {
    "scrolled": false
   },
   "outputs": [
    {
     "data": {
      "text/html": [
       "<div>\n",
       "<style scoped>\n",
       "    .dataframe tbody tr th:only-of-type {\n",
       "        vertical-align: middle;\n",
       "    }\n",
       "\n",
       "    .dataframe tbody tr th {\n",
       "        vertical-align: top;\n",
       "    }\n",
       "\n",
       "    .dataframe thead th {\n",
       "        text-align: right;\n",
       "    }\n",
       "</style>\n",
       "<table border=\"1\" class=\"dataframe\">\n",
       "  <thead>\n",
       "    <tr style=\"text-align: right;\">\n",
       "      <th></th>\n",
       "      <th>work_year</th>\n",
       "      <th>salary_in_usd</th>\n",
       "      <th>remote_ratio_50</th>\n",
       "      <th>remote_ratio_100</th>\n",
       "      <th>company_size_M</th>\n",
       "      <th>company_size_S</th>\n",
       "      <th>employment_type_FL</th>\n",
       "      <th>employment_type_FT</th>\n",
       "      <th>employment_type_PT</th>\n",
       "      <th>experience_level_EX</th>\n",
       "      <th>experience_level_MI</th>\n",
       "      <th>experience_level_SE</th>\n",
       "      <th>company_location_DE</th>\n",
       "      <th>company_location_ES</th>\n",
       "      <th>company_location_FR</th>\n",
       "      <th>company_location_GB</th>\n",
       "      <th>company_location_IN</th>\n",
       "      <th>company_location_OTHER</th>\n",
       "      <th>company_location_US</th>\n",
       "      <th>job_title_Applied Scientist</th>\n",
       "      <th>job_title_Data Analyst</th>\n",
       "      <th>job_title_Data Engineer</th>\n",
       "      <th>job_title_Data Science Manager</th>\n",
       "      <th>job_title_Data Scientist</th>\n",
       "      <th>job_title_Machine Learning Engineer</th>\n",
       "      <th>job_title_Machine Learning Scientist</th>\n",
       "      <th>job_title_OTHER</th>\n",
       "      <th>job_title_Research Engineer</th>\n",
       "      <th>job_title_Research Scientist</th>\n",
       "    </tr>\n",
       "  </thead>\n",
       "  <tbody>\n",
       "    <tr>\n",
       "      <th>0</th>\n",
       "      <td>2023</td>\n",
       "      <td>85847</td>\n",
       "      <td>0</td>\n",
       "      <td>1</td>\n",
       "      <td>0</td>\n",
       "      <td>0</td>\n",
       "      <td>0</td>\n",
       "      <td>1</td>\n",
       "      <td>0</td>\n",
       "      <td>0</td>\n",
       "      <td>0</td>\n",
       "      <td>1</td>\n",
       "      <td>0</td>\n",
       "      <td>1</td>\n",
       "      <td>0</td>\n",
       "      <td>0</td>\n",
       "      <td>0</td>\n",
       "      <td>0</td>\n",
       "      <td>0</td>\n",
       "      <td>0</td>\n",
       "      <td>0</td>\n",
       "      <td>0</td>\n",
       "      <td>0</td>\n",
       "      <td>0</td>\n",
       "      <td>0</td>\n",
       "      <td>0</td>\n",
       "      <td>1</td>\n",
       "      <td>0</td>\n",
       "      <td>0</td>\n",
       "    </tr>\n",
       "    <tr>\n",
       "      <th>1</th>\n",
       "      <td>2023</td>\n",
       "      <td>30000</td>\n",
       "      <td>0</td>\n",
       "      <td>1</td>\n",
       "      <td>0</td>\n",
       "      <td>1</td>\n",
       "      <td>0</td>\n",
       "      <td>0</td>\n",
       "      <td>0</td>\n",
       "      <td>0</td>\n",
       "      <td>1</td>\n",
       "      <td>0</td>\n",
       "      <td>0</td>\n",
       "      <td>0</td>\n",
       "      <td>0</td>\n",
       "      <td>0</td>\n",
       "      <td>0</td>\n",
       "      <td>0</td>\n",
       "      <td>1</td>\n",
       "      <td>0</td>\n",
       "      <td>0</td>\n",
       "      <td>0</td>\n",
       "      <td>0</td>\n",
       "      <td>0</td>\n",
       "      <td>0</td>\n",
       "      <td>0</td>\n",
       "      <td>1</td>\n",
       "      <td>0</td>\n",
       "      <td>0</td>\n",
       "    </tr>\n",
       "    <tr>\n",
       "      <th>2</th>\n",
       "      <td>2023</td>\n",
       "      <td>25500</td>\n",
       "      <td>0</td>\n",
       "      <td>1</td>\n",
       "      <td>0</td>\n",
       "      <td>1</td>\n",
       "      <td>0</td>\n",
       "      <td>0</td>\n",
       "      <td>0</td>\n",
       "      <td>0</td>\n",
       "      <td>1</td>\n",
       "      <td>0</td>\n",
       "      <td>0</td>\n",
       "      <td>0</td>\n",
       "      <td>0</td>\n",
       "      <td>0</td>\n",
       "      <td>0</td>\n",
       "      <td>0</td>\n",
       "      <td>1</td>\n",
       "      <td>0</td>\n",
       "      <td>0</td>\n",
       "      <td>0</td>\n",
       "      <td>0</td>\n",
       "      <td>0</td>\n",
       "      <td>0</td>\n",
       "      <td>0</td>\n",
       "      <td>1</td>\n",
       "      <td>0</td>\n",
       "      <td>0</td>\n",
       "    </tr>\n",
       "    <tr>\n",
       "      <th>3</th>\n",
       "      <td>2023</td>\n",
       "      <td>175000</td>\n",
       "      <td>0</td>\n",
       "      <td>1</td>\n",
       "      <td>1</td>\n",
       "      <td>0</td>\n",
       "      <td>0</td>\n",
       "      <td>1</td>\n",
       "      <td>0</td>\n",
       "      <td>0</td>\n",
       "      <td>0</td>\n",
       "      <td>1</td>\n",
       "      <td>0</td>\n",
       "      <td>0</td>\n",
       "      <td>0</td>\n",
       "      <td>0</td>\n",
       "      <td>0</td>\n",
       "      <td>0</td>\n",
       "      <td>0</td>\n",
       "      <td>0</td>\n",
       "      <td>0</td>\n",
       "      <td>0</td>\n",
       "      <td>0</td>\n",
       "      <td>1</td>\n",
       "      <td>0</td>\n",
       "      <td>0</td>\n",
       "      <td>0</td>\n",
       "      <td>0</td>\n",
       "      <td>0</td>\n",
       "    </tr>\n",
       "    <tr>\n",
       "      <th>4</th>\n",
       "      <td>2023</td>\n",
       "      <td>120000</td>\n",
       "      <td>0</td>\n",
       "      <td>1</td>\n",
       "      <td>1</td>\n",
       "      <td>0</td>\n",
       "      <td>0</td>\n",
       "      <td>1</td>\n",
       "      <td>0</td>\n",
       "      <td>0</td>\n",
       "      <td>0</td>\n",
       "      <td>1</td>\n",
       "      <td>0</td>\n",
       "      <td>0</td>\n",
       "      <td>0</td>\n",
       "      <td>0</td>\n",
       "      <td>0</td>\n",
       "      <td>0</td>\n",
       "      <td>0</td>\n",
       "      <td>0</td>\n",
       "      <td>0</td>\n",
       "      <td>0</td>\n",
       "      <td>0</td>\n",
       "      <td>1</td>\n",
       "      <td>0</td>\n",
       "      <td>0</td>\n",
       "      <td>0</td>\n",
       "      <td>0</td>\n",
       "      <td>0</td>\n",
       "    </tr>\n",
       "    <tr>\n",
       "      <th>...</th>\n",
       "      <td>...</td>\n",
       "      <td>...</td>\n",
       "      <td>...</td>\n",
       "      <td>...</td>\n",
       "      <td>...</td>\n",
       "      <td>...</td>\n",
       "      <td>...</td>\n",
       "      <td>...</td>\n",
       "      <td>...</td>\n",
       "      <td>...</td>\n",
       "      <td>...</td>\n",
       "      <td>...</td>\n",
       "      <td>...</td>\n",
       "      <td>...</td>\n",
       "      <td>...</td>\n",
       "      <td>...</td>\n",
       "      <td>...</td>\n",
       "      <td>...</td>\n",
       "      <td>...</td>\n",
       "      <td>...</td>\n",
       "      <td>...</td>\n",
       "      <td>...</td>\n",
       "      <td>...</td>\n",
       "      <td>...</td>\n",
       "      <td>...</td>\n",
       "      <td>...</td>\n",
       "      <td>...</td>\n",
       "      <td>...</td>\n",
       "      <td>...</td>\n",
       "    </tr>\n",
       "    <tr>\n",
       "      <th>3750</th>\n",
       "      <td>2020</td>\n",
       "      <td>412000</td>\n",
       "      <td>0</td>\n",
       "      <td>1</td>\n",
       "      <td>0</td>\n",
       "      <td>0</td>\n",
       "      <td>0</td>\n",
       "      <td>1</td>\n",
       "      <td>0</td>\n",
       "      <td>0</td>\n",
       "      <td>0</td>\n",
       "      <td>1</td>\n",
       "      <td>0</td>\n",
       "      <td>0</td>\n",
       "      <td>0</td>\n",
       "      <td>0</td>\n",
       "      <td>0</td>\n",
       "      <td>0</td>\n",
       "      <td>1</td>\n",
       "      <td>0</td>\n",
       "      <td>0</td>\n",
       "      <td>0</td>\n",
       "      <td>0</td>\n",
       "      <td>1</td>\n",
       "      <td>0</td>\n",
       "      <td>0</td>\n",
       "      <td>0</td>\n",
       "      <td>0</td>\n",
       "      <td>0</td>\n",
       "    </tr>\n",
       "    <tr>\n",
       "      <th>3751</th>\n",
       "      <td>2021</td>\n",
       "      <td>151000</td>\n",
       "      <td>0</td>\n",
       "      <td>1</td>\n",
       "      <td>0</td>\n",
       "      <td>0</td>\n",
       "      <td>0</td>\n",
       "      <td>1</td>\n",
       "      <td>0</td>\n",
       "      <td>0</td>\n",
       "      <td>1</td>\n",
       "      <td>0</td>\n",
       "      <td>0</td>\n",
       "      <td>0</td>\n",
       "      <td>0</td>\n",
       "      <td>0</td>\n",
       "      <td>0</td>\n",
       "      <td>0</td>\n",
       "      <td>1</td>\n",
       "      <td>0</td>\n",
       "      <td>0</td>\n",
       "      <td>0</td>\n",
       "      <td>0</td>\n",
       "      <td>0</td>\n",
       "      <td>0</td>\n",
       "      <td>0</td>\n",
       "      <td>1</td>\n",
       "      <td>0</td>\n",
       "      <td>0</td>\n",
       "    </tr>\n",
       "    <tr>\n",
       "      <th>3752</th>\n",
       "      <td>2020</td>\n",
       "      <td>105000</td>\n",
       "      <td>0</td>\n",
       "      <td>1</td>\n",
       "      <td>0</td>\n",
       "      <td>1</td>\n",
       "      <td>0</td>\n",
       "      <td>1</td>\n",
       "      <td>0</td>\n",
       "      <td>0</td>\n",
       "      <td>0</td>\n",
       "      <td>0</td>\n",
       "      <td>0</td>\n",
       "      <td>0</td>\n",
       "      <td>0</td>\n",
       "      <td>0</td>\n",
       "      <td>0</td>\n",
       "      <td>0</td>\n",
       "      <td>1</td>\n",
       "      <td>0</td>\n",
       "      <td>0</td>\n",
       "      <td>0</td>\n",
       "      <td>0</td>\n",
       "      <td>1</td>\n",
       "      <td>0</td>\n",
       "      <td>0</td>\n",
       "      <td>0</td>\n",
       "      <td>0</td>\n",
       "      <td>0</td>\n",
       "    </tr>\n",
       "    <tr>\n",
       "      <th>3753</th>\n",
       "      <td>2020</td>\n",
       "      <td>100000</td>\n",
       "      <td>0</td>\n",
       "      <td>1</td>\n",
       "      <td>0</td>\n",
       "      <td>0</td>\n",
       "      <td>0</td>\n",
       "      <td>0</td>\n",
       "      <td>0</td>\n",
       "      <td>0</td>\n",
       "      <td>0</td>\n",
       "      <td>0</td>\n",
       "      <td>0</td>\n",
       "      <td>0</td>\n",
       "      <td>0</td>\n",
       "      <td>0</td>\n",
       "      <td>0</td>\n",
       "      <td>0</td>\n",
       "      <td>1</td>\n",
       "      <td>0</td>\n",
       "      <td>0</td>\n",
       "      <td>0</td>\n",
       "      <td>0</td>\n",
       "      <td>0</td>\n",
       "      <td>0</td>\n",
       "      <td>0</td>\n",
       "      <td>1</td>\n",
       "      <td>0</td>\n",
       "      <td>0</td>\n",
       "    </tr>\n",
       "    <tr>\n",
       "      <th>3754</th>\n",
       "      <td>2021</td>\n",
       "      <td>94665</td>\n",
       "      <td>1</td>\n",
       "      <td>0</td>\n",
       "      <td>0</td>\n",
       "      <td>0</td>\n",
       "      <td>0</td>\n",
       "      <td>1</td>\n",
       "      <td>0</td>\n",
       "      <td>0</td>\n",
       "      <td>0</td>\n",
       "      <td>1</td>\n",
       "      <td>0</td>\n",
       "      <td>0</td>\n",
       "      <td>0</td>\n",
       "      <td>0</td>\n",
       "      <td>1</td>\n",
       "      <td>0</td>\n",
       "      <td>0</td>\n",
       "      <td>0</td>\n",
       "      <td>0</td>\n",
       "      <td>0</td>\n",
       "      <td>1</td>\n",
       "      <td>0</td>\n",
       "      <td>0</td>\n",
       "      <td>0</td>\n",
       "      <td>0</td>\n",
       "      <td>0</td>\n",
       "      <td>0</td>\n",
       "    </tr>\n",
       "  </tbody>\n",
       "</table>\n",
       "<p>3755 rows × 29 columns</p>\n",
       "</div>"
      ],
      "text/plain": [
       "      work_year  salary_in_usd  remote_ratio_50  remote_ratio_100  \\\n",
       "0          2023          85847                0                 1   \n",
       "1          2023          30000                0                 1   \n",
       "2          2023          25500                0                 1   \n",
       "3          2023         175000                0                 1   \n",
       "4          2023         120000                0                 1   \n",
       "...         ...            ...              ...               ...   \n",
       "3750       2020         412000                0                 1   \n",
       "3751       2021         151000                0                 1   \n",
       "3752       2020         105000                0                 1   \n",
       "3753       2020         100000                0                 1   \n",
       "3754       2021          94665                1                 0   \n",
       "\n",
       "      company_size_M  company_size_S  employment_type_FL  employment_type_FT  \\\n",
       "0                  0               0                   0                   1   \n",
       "1                  0               1                   0                   0   \n",
       "2                  0               1                   0                   0   \n",
       "3                  1               0                   0                   1   \n",
       "4                  1               0                   0                   1   \n",
       "...              ...             ...                 ...                 ...   \n",
       "3750               0               0                   0                   1   \n",
       "3751               0               0                   0                   1   \n",
       "3752               0               1                   0                   1   \n",
       "3753               0               0                   0                   0   \n",
       "3754               0               0                   0                   1   \n",
       "\n",
       "      employment_type_PT  experience_level_EX  experience_level_MI  \\\n",
       "0                      0                    0                    0   \n",
       "1                      0                    0                    1   \n",
       "2                      0                    0                    1   \n",
       "3                      0                    0                    0   \n",
       "4                      0                    0                    0   \n",
       "...                  ...                  ...                  ...   \n",
       "3750                   0                    0                    0   \n",
       "3751                   0                    0                    1   \n",
       "3752                   0                    0                    0   \n",
       "3753                   0                    0                    0   \n",
       "3754                   0                    0                    0   \n",
       "\n",
       "      experience_level_SE  company_location_DE  company_location_ES  \\\n",
       "0                       1                    0                    1   \n",
       "1                       0                    0                    0   \n",
       "2                       0                    0                    0   \n",
       "3                       1                    0                    0   \n",
       "4                       1                    0                    0   \n",
       "...                   ...                  ...                  ...   \n",
       "3750                    1                    0                    0   \n",
       "3751                    0                    0                    0   \n",
       "3752                    0                    0                    0   \n",
       "3753                    0                    0                    0   \n",
       "3754                    1                    0                    0   \n",
       "\n",
       "      company_location_FR  company_location_GB  company_location_IN  \\\n",
       "0                       0                    0                    0   \n",
       "1                       0                    0                    0   \n",
       "2                       0                    0                    0   \n",
       "3                       0                    0                    0   \n",
       "4                       0                    0                    0   \n",
       "...                   ...                  ...                  ...   \n",
       "3750                    0                    0                    0   \n",
       "3751                    0                    0                    0   \n",
       "3752                    0                    0                    0   \n",
       "3753                    0                    0                    0   \n",
       "3754                    0                    0                    1   \n",
       "\n",
       "      company_location_OTHER  company_location_US  \\\n",
       "0                          0                    0   \n",
       "1                          0                    1   \n",
       "2                          0                    1   \n",
       "3                          0                    0   \n",
       "4                          0                    0   \n",
       "...                      ...                  ...   \n",
       "3750                       0                    1   \n",
       "3751                       0                    1   \n",
       "3752                       0                    1   \n",
       "3753                       0                    1   \n",
       "3754                       0                    0   \n",
       "\n",
       "      job_title_Applied Scientist  job_title_Data Analyst  \\\n",
       "0                               0                       0   \n",
       "1                               0                       0   \n",
       "2                               0                       0   \n",
       "3                               0                       0   \n",
       "4                               0                       0   \n",
       "...                           ...                     ...   \n",
       "3750                            0                       0   \n",
       "3751                            0                       0   \n",
       "3752                            0                       0   \n",
       "3753                            0                       0   \n",
       "3754                            0                       0   \n",
       "\n",
       "      job_title_Data Engineer  job_title_Data Science Manager  \\\n",
       "0                           0                               0   \n",
       "1                           0                               0   \n",
       "2                           0                               0   \n",
       "3                           0                               0   \n",
       "4                           0                               0   \n",
       "...                       ...                             ...   \n",
       "3750                        0                               0   \n",
       "3751                        0                               0   \n",
       "3752                        0                               0   \n",
       "3753                        0                               0   \n",
       "3754                        0                               1   \n",
       "\n",
       "      job_title_Data Scientist  job_title_Machine Learning Engineer  \\\n",
       "0                            0                                    0   \n",
       "1                            0                                    0   \n",
       "2                            0                                    0   \n",
       "3                            1                                    0   \n",
       "4                            1                                    0   \n",
       "...                        ...                                  ...   \n",
       "3750                         1                                    0   \n",
       "3751                         0                                    0   \n",
       "3752                         1                                    0   \n",
       "3753                         0                                    0   \n",
       "3754                         0                                    0   \n",
       "\n",
       "      job_title_Machine Learning Scientist  job_title_OTHER  \\\n",
       "0                                        0                1   \n",
       "1                                        0                1   \n",
       "2                                        0                1   \n",
       "3                                        0                0   \n",
       "4                                        0                0   \n",
       "...                                    ...              ...   \n",
       "3750                                     0                0   \n",
       "3751                                     0                1   \n",
       "3752                                     0                0   \n",
       "3753                                     0                1   \n",
       "3754                                     0                0   \n",
       "\n",
       "      job_title_Research Engineer  job_title_Research Scientist  \n",
       "0                               0                             0  \n",
       "1                               0                             0  \n",
       "2                               0                             0  \n",
       "3                               0                             0  \n",
       "4                               0                             0  \n",
       "...                           ...                           ...  \n",
       "3750                            0                             0  \n",
       "3751                            0                             0  \n",
       "3752                            0                             0  \n",
       "3753                            0                             0  \n",
       "3754                            0                             0  \n",
       "\n",
       "[3755 rows x 29 columns]"
      ]
     },
     "execution_count": 29,
     "metadata": {},
     "output_type": "execute_result"
    }
   ],
   "source": [
    "# Checking the data after handling categorical data \n",
    "same_data"
   ]
  },
  {
   "cell_type": "code",
   "execution_count": 30,
   "id": "7478bd5a",
   "metadata": {},
   "outputs": [],
   "source": [
    "# Separating independent variables and the target variable\n",
    "\n",
    "x = same_data.drop(\"salary_in_usd\", axis= 1)\n",
    "\n",
    "y = same_data[\"salary_in_usd\"]"
   ]
  },
  {
   "cell_type": "code",
   "execution_count": 31,
   "id": "123b5f33",
   "metadata": {},
   "outputs": [],
   "source": [
    "# We have to scale the data \n",
    "from sklearn.preprocessing import MinMaxScaler\n",
    "\n",
    "scaler = MinMaxScaler()\n",
    "\n",
    "x_ = scaler.fit_transform(x)\n",
    "\n",
    "x = pd.DataFrame(x_, index= x.index, columns=x.columns)"
   ]
  },
  {
   "cell_type": "code",
   "execution_count": 32,
   "id": "d5426324",
   "metadata": {},
   "outputs": [],
   "source": [
    "# Splitting the dataset into train and test datasets \n",
    "\n",
    "x_train, x_test, y_train, y_test = train_test_split(x, y, test_size= 0.2, random_state= 1 )"
   ]
  },
  {
   "cell_type": "code",
   "execution_count": 33,
   "id": "b2526486",
   "metadata": {},
   "outputs": [
    {
     "name": "stdout",
     "output_type": "stream",
     "text": [
      "Shape of Training set:  (3004, 28)\n",
      "Shape of Test set:  (751, 28)\n"
     ]
    }
   ],
   "source": [
    "# Checking the shape of the train and test data \n",
    "\n",
    "print(\"Shape of Training set: \", x_train.shape)\n",
    "\n",
    "print(\"Shape of Test set: \", x_test.shape)"
   ]
  },
  {
   "cell_type": "markdown",
   "id": "b0e30520",
   "metadata": {},
   "source": [
    "<h2> Model Building </h2>\n",
    "<p>\n",
    "    <ol>\n",
    "    <li> We will be using different metrics functions definied in sklearn like RMSE, MAE, and R2 for regression model evaluation. </li>\n",
    "    <li> We will define a function to calculate MAPE and the adjust R\". </li>\n",
    "    <li> The mean absolute percentage error (MAPE) measures the accuracy of predictions as a percentage and can be calculated as the average absolute percent error for each predicted value minus the actual value divided by the actual value. It work best if there are no extreme values in the data and none of the actual values are 0. </li>\n",
    "</ol>\n",
    "</p>"
   ]
  },
  {
   "cell_type": "code",
   "execution_count": 34,
   "id": "4b32df08",
   "metadata": {},
   "outputs": [],
   "source": [
    "# Function to compute the adjusted R - squared \n",
    "\n",
    "def adj_r2_score(predictors, targets, predictions):\n",
    "    \n",
    "    r2 = r2_score(targets, predictions)\n",
    "    \n",
    "    n= predictors.shape[0]\n",
    "    \n",
    "    k = predictors.shape[1]\n",
    "    \n",
    "    return 1 - ((1 - r2) * (n - 1) / (n - k - 1))\n",
    "\n",
    "# Function to compute MAPE\n",
    "\n",
    "def mape_score(targets, predictions):\n",
    "    return np.mean(np.abs(targets - predictions) / targets) * 100\n",
    "\n",
    "# Function to compute different metrics to check performance of a regression model \n",
    "\n",
    "def model_performance_regression(model, predictors, target):\n",
    "    \n",
    "    \"\"\"\n",
    "    Function to compute different metrics to check regression model performance\n",
    "\n",
    "    model: regressor\n",
    "    \n",
    "    predictors: independent variables\n",
    "    \n",
    "    target: dependent variable\n",
    "    \"\"\"\n",
    "    \n",
    "    pred= model.predict(predictors)\n",
    "    \n",
    "    r2 = r2_score(target, pred)\n",
    "    \n",
    "    adjr2 = adj_r2_score(predictors, target, pred)\n",
    "    \n",
    "    rmse = np.sqrt(mean_squared_error(target, pred))\n",
    "    \n",
    "    mae = mean_absolute_error(target, pred)\n",
    "    \n",
    "    mape = mape_score(target, pred)\n",
    "    \n",
    "    mse = mean_squared_error(target, pred)\n",
    "    \n",
    "    df_perf = pd.DataFrame(\n",
    "        {\n",
    "            \"RMSE\":rmse,\n",
    "            \"MAE\": mae,\n",
    "            \"R-squared\": r2,\n",
    "            \"Adj. R-squared\": adjr2,\n",
    "            \"MAPE\": mape,\n",
    "            \"MSE\" : mse\n",
    "        },\n",
    "        \n",
    "        index = [0]\n",
    "    )\n",
    "    \n",
    "    return df_perf"
   ]
  },
  {
   "cell_type": "code",
   "execution_count": 35,
   "id": "cc5da1fa",
   "metadata": {},
   "outputs": [],
   "source": [
    "# RMSE\n",
    "def rmse(predictions, targets):\n",
    "    return np.sqrt(((targets - predictions) ** 2).mean())\n",
    "\n",
    "# MAPE\n",
    "def mape(predictions, targets):\n",
    "    return np.mean(np.abs((targets - predictions)) / targets) * 100\n",
    "\n",
    "# MAE\n",
    "def mae(predictions, targets):\n",
    "    return np.mean(np.abs((targets - predictions)))\n",
    "\n",
    "# Model performance on the test and the train dataset \n",
    "def model_pref(olsmodel, x_train, x_test, y_train, y_test):\n",
    "    \n",
    "    y_pred_train = olsmodel.predict(x_train)\n",
    "    y_observed_train = y_train\n",
    "    \n",
    "    y_pred_test = olsmodel.predict(x_test)\n",
    "    y_observed_test = y_test\n",
    "    \n",
    "    print(\n",
    "        pd.DataFrame(\n",
    "            {\n",
    "                \"Data\": [\"Train\", \"Test\"],\n",
    "                \"RMSE\": [\n",
    "                    rmse(y_pred_train, y_observed_train),\n",
    "                    rmse(y_pred_test, y_observed_test)\n",
    "                    ],\n",
    "                \"MAE\": [\n",
    "                    mae(y_pred_train, y_observed_train),\n",
    "                    mae(y_pred_test, y_observed_test)\n",
    "                    ],\n",
    "                \"MAPE\": [\n",
    "                    mape(y_pred_train, y_observed_train),\n",
    "                    mape(y_pred_test, y_observed_test)\n",
    "                    ]\n",
    "            }\n",
    "        )\n",
    "    )"
   ]
  },
  {
   "cell_type": "code",
   "execution_count": 36,
   "id": "37a3994f",
   "metadata": {
    "scrolled": false
   },
   "outputs": [
    {
     "name": "stdout",
     "output_type": "stream",
     "text": [
      "                            OLS Regression Results                            \n",
      "==============================================================================\n",
      "Dep. Variable:          salary_in_usd   R-squared:                       0.420\n",
      "Model:                            OLS   Adj. R-squared:                  0.415\n",
      "Method:                 Least Squares   F-statistic:                     77.00\n",
      "Date:                Wed, 21 Jun 2023   Prob (F-statistic):               0.00\n",
      "Time:                        11:00:55   Log-Likelihood:                -36637.\n",
      "No. Observations:                3004   AIC:                         7.333e+04\n",
      "Df Residuals:                    2975   BIC:                         7.351e+04\n",
      "Df Model:                          28                                         \n",
      "Covariance Type:            nonrobust                                         \n",
      "========================================================================================================\n",
      "                                           coef    std err          t      P>|t|      [0.025      0.975]\n",
      "--------------------------------------------------------------------------------------------------------\n",
      "const                                 8.197e+04   1.89e+04      4.347      0.000     4.5e+04    1.19e+05\n",
      "work_year                             1.638e+04   4424.112      3.703      0.000    7707.036    2.51e+04\n",
      "remote_ratio_50                      -2544.6231   4831.338     -0.527      0.598    -1.2e+04    6928.480\n",
      "remote_ratio_100                      -214.9122   1891.577     -0.114      0.910   -3923.844    3494.019\n",
      "company_size_M                       -3794.7543   3181.484     -1.193      0.233      -1e+04    2443.378\n",
      "company_size_S                       -1.779e+04   5339.676     -3.332      0.001   -2.83e+04   -7320.874\n",
      "employment_type_FL                   -4.947e+04   2.37e+04     -2.090      0.037   -9.59e+04   -3062.944\n",
      "employment_type_FT                   -3498.3858   1.63e+04     -0.214      0.830   -3.55e+04    2.85e+04\n",
      "employment_type_PT                   -1.951e+04   2.06e+04     -0.948      0.343   -5.98e+04    2.08e+04\n",
      "experience_level_EX                   8.922e+04   5984.716     14.907      0.000    7.75e+04    1.01e+05\n",
      "experience_level_MI                   2.062e+04   3709.507      5.558      0.000    1.33e+04    2.79e+04\n",
      "experience_level_SE                   4.925e+04   3476.632     14.165      0.000    4.24e+04    5.61e+04\n",
      "company_location_DE                  -1.635e+04   9567.176     -1.709      0.088   -3.51e+04    2406.455\n",
      "company_location_ES                  -6.519e+04   8313.110     -7.842      0.000   -8.15e+04   -4.89e+04\n",
      "company_location_FR                  -4.704e+04   1.08e+04     -4.358      0.000   -6.82e+04   -2.59e+04\n",
      "company_location_GB                  -2.671e+04   7123.386     -3.749      0.000   -4.07e+04   -1.27e+04\n",
      "company_location_IN                  -7.535e+04   9449.865     -7.973      0.000   -9.39e+04   -5.68e+04\n",
      "company_location_OTHER               -4.133e+04   6756.920     -6.117      0.000   -5.46e+04   -2.81e+04\n",
      "company_location_US                   2.251e+04   5762.470      3.907      0.000    1.12e+04    3.38e+04\n",
      "job_title_Applied Scientist           3.838e+04   9380.070      4.092      0.000       2e+04    5.68e+04\n",
      "job_title_Data Analyst               -2.967e+04   5867.220     -5.056      0.000   -4.12e+04   -1.82e+04\n",
      "job_title_Data Engineer              -2515.3033   5649.367     -0.445      0.656   -1.36e+04    8561.759\n",
      "job_title_Data Science Manager        4.159e+04   8825.621      4.712      0.000    2.43e+04    5.89e+04\n",
      "job_title_Data Scientist              3670.6377   5735.967      0.640      0.522   -7576.226    1.49e+04\n",
      "job_title_Machine Learning Engineer   1.821e+04   6278.934      2.900      0.004    5896.234    3.05e+04\n",
      "job_title_Machine Learning Scientist  2.982e+04   1.15e+04      2.585      0.010    7200.335    5.24e+04\n",
      "job_title_OTHER                       1570.0803   5884.028      0.267      0.790   -9967.096    1.31e+04\n",
      "job_title_Research Engineer           2.741e+04   1.09e+04      2.524      0.012    6117.492    4.87e+04\n",
      "job_title_Research Scientist          3.323e+04   8435.865      3.939      0.000    1.67e+04    4.98e+04\n",
      "==============================================================================\n",
      "Omnibus:                      519.817   Durbin-Watson:                   2.006\n",
      "Prob(Omnibus):                  0.000   Jarque-Bera (JB):             1328.266\n",
      "Skew:                           0.944   Prob(JB):                    3.72e-289\n",
      "Kurtosis:                       5.655   Cond. No.                         88.2\n",
      "==============================================================================\n",
      "\n",
      "Notes:\n",
      "[1] Standard Errors assume that the covariance matrix of the errors is correctly specified.\n"
     ]
    }
   ],
   "source": [
    "import statsmodels.api as sm\n",
    "\n",
    "# Statsmodel api does not add a constant by default, we need to add it explicity\n",
    "x_train1 = sm.add_constant(x_train)\n",
    "\n",
    "# Add a constant to the test data\n",
    "x_test1 = sm.add_constant(x_test)\n",
    "\n",
    "# Create the model \n",
    "olsmodel1 = sm.OLS(y_train, x_train1).fit()\n",
    "\n",
    "#Get the model summary \n",
    "print(olsmodel1.summary())"
   ]
  },
  {
   "cell_type": "code",
   "execution_count": 37,
   "id": "50776b9a",
   "metadata": {},
   "outputs": [
    {
     "data": {
      "text/html": [
       "<div>\n",
       "<style scoped>\n",
       "    .dataframe tbody tr th:only-of-type {\n",
       "        vertical-align: middle;\n",
       "    }\n",
       "\n",
       "    .dataframe tbody tr th {\n",
       "        vertical-align: top;\n",
       "    }\n",
       "\n",
       "    .dataframe thead th {\n",
       "        text-align: right;\n",
       "    }\n",
       "</style>\n",
       "<table border=\"1\" class=\"dataframe\">\n",
       "  <thead>\n",
       "    <tr style=\"text-align: right;\">\n",
       "      <th></th>\n",
       "      <th>RMSE</th>\n",
       "      <th>MAE</th>\n",
       "      <th>R-squared</th>\n",
       "      <th>Adj. R-squared</th>\n",
       "      <th>MAPE</th>\n",
       "      <th>MSE</th>\n",
       "    </tr>\n",
       "  </thead>\n",
       "  <tbody>\n",
       "    <tr>\n",
       "      <th>0</th>\n",
       "      <td>50806.311685</td>\n",
       "      <td>37287.221856</td>\n",
       "      <td>0.359347</td>\n",
       "      <td>0.333578</td>\n",
       "      <td>39.001016</td>\n",
       "      <td>2.581281e+09</td>\n",
       "    </tr>\n",
       "  </tbody>\n",
       "</table>\n",
       "</div>"
      ],
      "text/plain": [
       "           RMSE           MAE  R-squared  Adj. R-squared       MAPE  \\\n",
       "0  50806.311685  37287.221856   0.359347        0.333578  39.001016   \n",
       "\n",
       "            MSE  \n",
       "0  2.581281e+09  "
      ]
     },
     "execution_count": 37,
     "metadata": {},
     "output_type": "execute_result"
    }
   ],
   "source": [
    "lin_reg_test = model_performance_regression(olsmodel1, x_test1, y_test)\n",
    "lin_reg_test"
   ]
  },
  {
   "cell_type": "markdown",
   "id": "13a1e1ed",
   "metadata": {},
   "source": [
    "<p><b>Observations:</b>\n",
    "    <ol>\n",
    "        <li> We can see thet the R-squared for the model is 0.44 </li>\n",
    "        <li> Not all the variables are statistically significant to predict the outcome variable. To check which variables are statistically significant or have predictive power to predict the target variable, we need to check the p-value against all the independent variables. </li>\n",
    "    </ol>\n",
    "</p>\n",
    "<p><b> Interpreting the Regressione Result:</b>\n",
    "    <ol>\n",
    "        <li> Adj. R-squared: it reflects the fit of the model.\n",
    "            <ol>\n",
    "                <li> Adjust R-squared values range from 0 to 1, where a higher value generally indicates a better fit, assuming certain conditions are met. </li>\n",
    "                <li> In our case, the value is 0.562 </li>\n",
    "            </ol>\n",
    "        </li>\n",
    "        <li> coeff: It represents the change in the output Y due to change of one unit in the independent variable. </li>\n",
    "        <li> std err: it reflects the level of accuracy of the coefficients. The lower it is, the more accurate the coefficients are. </li>\n",
    "        <li> P >|t|: It is the p-value:\n",
    "            <ol>\n",
    "                <li> Pr(>|t|): For each independent feature, there is a null hypothesis and alternate hypothesis. </li>\n",
    "                <li> The p-value of less than 0.05 is considered to be statistically significant with a confidence level of 95% </li>\n",
    "            </ol>\n",
    "        </li> \n",
    "        <li> Confidence  interval: It represents the range in which our coefficients are likely to fall. </li>\n",
    "    </ol>\n",
    "</p>\n",
    "<p> To understand in detail how p-value can help to identify statistically significant variables to predict the salary, we need to understand the hypothesis testing framework.</p>\n",
    "<p> In the following example, we are showing the null hypothesis between the independent variable remote_ratio and the dependent variable salary_in_usd to identify if there is any relationship between them or not. </p>\n",
    "<ol>\n",
    "    <li> Null hypothesis: There is nothing going on or there is no relationship between variable remote_ratio and salary_in_usd</li>\n",
    "    <li> Alternate hypothesis: There is something going on, because of which, there is a relationship between variables remote_ratio and salary_in_usd</li>\n",
    "</ol>\n",
    "<p> From the above model summary, if p-value is less than the significance level of 0.05, then we will reject the null hypothesis in favor of the alternate hypothesis. In other words, we have enough statistical evidence that there is some relationship between the variables remote_ratio and salary_in_usd.  </p>\n",
    "<p> Based on the above analysis, if we observe the above model summary, we can see only some of the variables or some of the categorical variables have a p-value lower than 0.05</p>"
   ]
  },
  {
   "cell_type": "markdown",
   "id": "a7bd6d36",
   "metadata": {},
   "source": [
    "<h5> Removing Multicollinearity </h5>"
   ]
  },
  {
   "cell_type": "markdown",
   "id": "dae20292",
   "metadata": {},
   "source": [
    "<ol>\n",
    "    <li> Multicollinearity occurs when predictors variables in a regression model are correlated. This correlation is a problem because predictor variables should be independent. If the correlation between independent variables is high, it can cause problems when we fit the model and terpret the results. When we have multicollinearity in the linear model, the coefficients that the model suggests ar eunreliable. </li>\n",
    "    <li> There are different ways of detecting or testing multicollinearity. One such way is the Variation Inflation Factor. </li>\n",
    "    <li> Variance Inflation Factor: It measures the inflation in the variances of the regresion prameter estimates due to collinearities that exist among the predictors. It is measure of how much the variance of the estimated regression coefficient betaK is \"inflated\" by the existence of correlation among the predictor variables in the model. </li>\n",
    "    <li> General Rule of thumb: if VIF is 1, then there is no correlation between the kth predictor and the remaning predictor variables, and hence the variance betaK s not inflated at all. Whereas, if VIF exceeds 5 or is close to exceeding 5, we say there is moderate VIF and if it is 10 or exceeds 10 it shows signs of high multicollinearity</li>\n",
    "</ol>"
   ]
  },
  {
   "cell_type": "code",
   "execution_count": 38,
   "id": "00feda89",
   "metadata": {
    "scrolled": false
   },
   "outputs": [
    {
     "name": "stdout",
     "output_type": "stream",
     "text": [
      "VIF Scores: \n",
      "\n",
      "const                                   460.541960\n",
      "work_year                                 1.380628\n",
      "remote_ratio_50                           1.506963\n",
      "remote_ratio_100                          1.144620\n",
      "company_size_M                            1.801922\n",
      "company_size_S                            1.394068\n",
      "employment_type_FL                        1.927799\n",
      "employment_type_FT                        3.642172\n",
      "employment_type_PT                        2.724800\n",
      "experience_level_EX                       1.406642\n",
      "experience_level_MI                       2.982247\n",
      "experience_level_SE                       3.463640\n",
      "company_location_DE                       1.634849\n",
      "company_location_ES                       1.838393\n",
      "company_location_FR                       1.442895\n",
      "company_location_GB                       2.781849\n",
      "company_location_IN                       1.632427\n",
      "company_location_OTHER                    3.401263\n",
      "company_location_US                       6.596579\n",
      "job_title_Applied Scientist               1.571529\n",
      "job_title_Data Analyst                    5.927061\n",
      "job_title_Data Engineer                   8.395545\n",
      "job_title_Data Science Manager            1.586763\n",
      "job_title_Data Scientist                  7.355424\n",
      "job_title_Machine Learning Engineer       3.683311\n",
      "job_title_Machine Learning Scientist      1.309749\n",
      "job_title_OTHER                           6.233382\n",
      "job_title_Research Engineer               1.360518\n",
      "job_title_Research Scientist              1.716287\n",
      "dtype: float64\n",
      "\n"
     ]
    }
   ],
   "source": [
    "from statsmodels.stats.outliers_influence import variance_inflation_factor\n",
    "\n",
    "vif_series = pd.Series(\n",
    "    [variance_inflation_factor(x_train1,i) for i in range (x_train1.shape[1])],\n",
    "    index = x_train1.columns,\n",
    "    dtype=float)\n",
    "\n",
    "print(\"VIF Scores: \\n\\n{}\\n\".format(vif_series))"
   ]
  },
  {
   "cell_type": "markdown",
   "id": "1923e9ea",
   "metadata": {},
   "source": [
    "<p><b>Observations </b>:We note that excluding the dummy variables link to company_location and employee_location, the other variables seem significant to the model.\n",
    "It is not a good practice to consider VIF values for dummy variables as they are correlated to other categories and hence have a high VIF usually. So, we built the model and calculated the p-values."
   ]
  },
  {
   "cell_type": "code",
   "execution_count": 39,
   "id": "416b6012",
   "metadata": {},
   "outputs": [],
   "source": [
    "# Select only some variables \n",
    "x_train2 = x_train1.drop(columns=[\"job_title_OTHER\",\"company_location_DE\"])\n",
    "\n",
    "x_test2 = x_test1.drop(columns=[\"job_title_OTHER\",\"company_location_DE\"])"
   ]
  },
  {
   "cell_type": "code",
   "execution_count": 40,
   "id": "a17f78a0",
   "metadata": {},
   "outputs": [
    {
     "name": "stdout",
     "output_type": "stream",
     "text": [
      "VIF Scores: \n",
      "\n",
      "const                                   397.774794\n",
      "work_year                                 1.379143\n",
      "remote_ratio_50                           1.504520\n",
      "remote_ratio_100                          1.144543\n",
      "company_size_M                            1.790980\n",
      "company_size_S                            1.369375\n",
      "employment_type_FL                        1.927402\n",
      "employment_type_FT                        3.634627\n",
      "employment_type_PT                        2.722295\n",
      "experience_level_EX                       1.400544\n",
      "experience_level_MI                       2.975808\n",
      "experience_level_SE                       3.437266\n",
      "company_location_ES                       1.551680\n",
      "company_location_FR                       1.287844\n",
      "company_location_GB                       2.152889\n",
      "company_location_IN                       1.407757\n",
      "company_location_OTHER                    2.480544\n",
      "company_location_US                       4.499443\n",
      "job_title_Applied Scientist               1.111114\n",
      "job_title_Data Analyst                    1.634460\n",
      "job_title_Data Engineer                   1.894634\n",
      "job_title_Data Science Manager            1.076298\n",
      "job_title_Data Scientist                  1.749424\n",
      "job_title_Machine Learning Engineer       1.332357\n",
      "job_title_Machine Learning Scientist      1.051041\n",
      "job_title_Research Engineer               1.061984\n",
      "job_title_Research Scientist              1.099159\n",
      "dtype: float64\n",
      "\n"
     ]
    }
   ],
   "source": [
    "vif_series = pd.Series(\n",
    "    [variance_inflation_factor(x_train2,i) for i in range (x_train2.shape[1])],\n",
    "    index = x_train2.columns,\n",
    "    dtype=float)\n",
    "\n",
    "print(\"VIF Scores: \\n\\n{}\\n\".format(vif_series))"
   ]
  },
  {
   "cell_type": "code",
   "execution_count": 41,
   "id": "ce474960",
   "metadata": {},
   "outputs": [
    {
     "name": "stdout",
     "output_type": "stream",
     "text": [
      "                            OLS Regression Results                            \n",
      "==============================================================================\n",
      "Dep. Variable:          salary_in_usd   R-squared:                       0.420\n",
      "Model:                            OLS   Adj. R-squared:                  0.415\n",
      "Method:                 Least Squares   F-statistic:                     82.78\n",
      "Date:                Wed, 21 Jun 2023   Prob (F-statistic):               0.00\n",
      "Time:                        11:00:56   Log-Likelihood:                -36639.\n",
      "No. Observations:                3004   AIC:                         7.333e+04\n",
      "Df Residuals:                    2977   BIC:                         7.349e+04\n",
      "Df Model:                          26                                         \n",
      "Covariance Type:            nonrobust                                         \n",
      "========================================================================================================\n",
      "                                           coef    std err          t      P>|t|      [0.025      0.975]\n",
      "--------------------------------------------------------------------------------------------------------\n",
      "const                                 7.809e+04   1.75e+04      4.456      0.000    4.37e+04    1.12e+05\n",
      "work_year                             1.662e+04   4422.481      3.759      0.000    7951.173    2.53e+04\n",
      "remote_ratio_50                      -2830.8669   4828.239     -0.586      0.558   -1.23e+04    6636.157\n",
      "remote_ratio_100                      -209.9358   1891.833     -0.111      0.912   -3919.369    3499.498\n",
      "company_size_M                       -3839.0058   3172.347     -1.210      0.226   -1.01e+04    2381.210\n",
      "company_size_S                       -1.901e+04   5293.071     -3.592      0.000   -2.94e+04   -8632.001\n",
      "employment_type_FL                   -4.975e+04   2.37e+04     -2.102      0.036   -9.62e+04   -3342.319\n",
      "employment_type_FT                   -4247.7563   1.63e+04     -0.260      0.795   -3.62e+04    2.77e+04\n",
      "employment_type_PT                   -2.016e+04   2.06e+04     -0.980      0.327   -6.05e+04    2.02e+04\n",
      "experience_level_EX                   8.976e+04   5972.740     15.028      0.000     7.8e+04    1.01e+05\n",
      "experience_level_MI                   2.091e+04   3706.128      5.642      0.000    1.36e+04    2.82e+04\n",
      "experience_level_SE                   4.973e+04   3463.957     14.356      0.000    4.29e+04    5.65e+04\n",
      "company_location_ES                  -5.961e+04   7638.693     -7.804      0.000   -7.46e+04   -4.46e+04\n",
      "company_location_FR                  -4.106e+04   1.02e+04     -4.026      0.000   -6.11e+04   -2.11e+04\n",
      "company_location_GB                  -2.108e+04   6267.640     -3.363      0.001   -3.34e+04   -8785.857\n",
      "company_location_IN                  -6.937e+04   8777.000     -7.904      0.000   -8.66e+04   -5.22e+04\n",
      "company_location_OTHER               -3.535e+04   5771.328     -6.124      0.000   -4.67e+04    -2.4e+04\n",
      "company_location_US                   2.798e+04   4759.949      5.878      0.000    1.86e+04    3.73e+04\n",
      "job_title_Applied Scientist            3.69e+04   7888.562      4.678      0.000    2.14e+04    5.24e+04\n",
      "job_title_Data Analyst               -3.088e+04   3081.580    -10.020      0.000   -3.69e+04   -2.48e+04\n",
      "job_title_Data Engineer              -3980.4057   2684.180     -1.483      0.138   -9243.441    1282.630\n",
      "job_title_Data Science Manager        4.009e+04   7269.913      5.515      0.000    2.58e+04    5.43e+04\n",
      "job_title_Data Scientist              2200.3710   2797.846      0.786      0.432   -3285.537    7686.279\n",
      "job_title_Machine Learning Engineer   1.668e+04   3777.031      4.417      0.000    9277.985    2.41e+04\n",
      "job_title_Machine Learning Scientist  2.854e+04   1.03e+04      2.762      0.006    8280.451    4.88e+04\n",
      "job_title_Research Engineer           2.451e+04   9594.524      2.555      0.011    5701.621    4.33e+04\n",
      "job_title_Research Scientist          3.224e+04   6752.094      4.775      0.000     1.9e+04    4.55e+04\n",
      "==============================================================================\n",
      "Omnibus:                      519.372   Durbin-Watson:                   2.007\n",
      "Prob(Omnibus):                  0.000   Jarque-Bera (JB):             1318.260\n",
      "Skew:                           0.945   Prob(JB):                    5.54e-287\n",
      "Kurtosis:                       5.638   Cond. No.                         87.3\n",
      "==============================================================================\n",
      "\n",
      "Notes:\n",
      "[1] Standard Errors assume that the covariance matrix of the errors is correctly specified.\n"
     ]
    }
   ],
   "source": [
    "# Create a new model \n",
    "olsmodel2 = sm.OLS(y_train, x_train2).fit()\n",
    "\n",
    "#Get the model summary \n",
    "print(olsmodel2.summary())"
   ]
  },
  {
   "cell_type": "code",
   "execution_count": 42,
   "id": "fab498d8",
   "metadata": {},
   "outputs": [],
   "source": [
    "x_train3 = x_train2.drop(columns=[\"company_size_M\",\"remote_ratio_50\",\"remote_ratio_100\"\n",
    "                                 ,\"employment_type_FT\", \"employment_type_PT\",\"job_title_Data Engineer\",\"job_title_Data Scientist\"])\n",
    "\n",
    "x_test3 = x_test2.drop(columns=[\"company_size_M\",\"remote_ratio_50\",\"remote_ratio_100\"\n",
    "                                 ,\"employment_type_FT\", \"employment_type_PT\",\"job_title_Data Engineer\",\"job_title_Data Scientist\"])"
   ]
  },
  {
   "cell_type": "code",
   "execution_count": 43,
   "id": "0569d399",
   "metadata": {},
   "outputs": [
    {
     "name": "stdout",
     "output_type": "stream",
     "text": [
      "                            OLS Regression Results                            \n",
      "==============================================================================\n",
      "Dep. Variable:          salary_in_usd   R-squared:                       0.418\n",
      "Model:                            OLS   Adj. R-squared:                  0.414\n",
      "Method:                 Least Squares   F-statistic:                     112.6\n",
      "Date:                Wed, 21 Jun 2023   Prob (F-statistic):               0.00\n",
      "Time:                        11:00:56   Log-Likelihood:                -36644.\n",
      "No. Observations:                3004   AIC:                         7.333e+04\n",
      "Df Residuals:                    2984   BIC:                         7.345e+04\n",
      "Df Model:                          19                                         \n",
      "Covariance Type:            nonrobust                                         \n",
      "========================================================================================================\n",
      "                                           coef    std err          t      P>|t|      [0.025      0.975]\n",
      "--------------------------------------------------------------------------------------------------------\n",
      "const                                 7.065e+04   5965.413     11.843      0.000     5.9e+04    8.23e+04\n",
      "work_year                             1.544e+04   4107.446      3.759      0.000    7385.444    2.35e+04\n",
      "company_size_S                        -1.66e+04   4902.327     -3.385      0.001   -2.62e+04   -6982.780\n",
      "employment_type_FL                    -4.64e+04   1.73e+04     -2.687      0.007   -8.03e+04   -1.25e+04\n",
      "experience_level_EX                   8.956e+04   5913.994     15.143      0.000     7.8e+04    1.01e+05\n",
      "experience_level_MI                    2.14e+04   3632.187      5.892      0.000    1.43e+04    2.85e+04\n",
      "experience_level_SE                   5.017e+04   3366.623     14.902      0.000    4.36e+04    5.68e+04\n",
      "company_location_ES                  -6.034e+04   7591.473     -7.948      0.000   -7.52e+04   -4.55e+04\n",
      "company_location_FR                  -4.121e+04   1.01e+04     -4.101      0.000   -6.09e+04   -2.15e+04\n",
      "company_location_GB                  -2.215e+04   6244.321     -3.548      0.000   -3.44e+04   -9909.228\n",
      "company_location_IN                  -6.859e+04   8688.203     -7.895      0.000   -8.56e+04   -5.16e+04\n",
      "company_location_OTHER               -3.574e+04   5760.044     -6.205      0.000    -4.7e+04   -2.44e+04\n",
      "company_location_US                   2.709e+04   4688.427      5.779      0.000    1.79e+04    3.63e+04\n",
      "job_title_Applied Scientist           3.981e+04   7540.676      5.279      0.000     2.5e+04    5.46e+04\n",
      "job_title_Data Analyst               -3.017e+04   2480.019    -12.164      0.000    -3.5e+04   -2.53e+04\n",
      "job_title_Data Science Manager         4.13e+04   7050.015      5.858      0.000    2.75e+04    5.51e+04\n",
      "job_title_Machine Learning Engineer   1.764e+04   3338.547      5.283      0.000    1.11e+04    2.42e+04\n",
      "job_title_Machine Learning Scientist  2.977e+04   1.02e+04      2.915      0.004    9745.100    4.98e+04\n",
      "job_title_Research Engineer           2.551e+04   9408.321      2.711      0.007    7058.462     4.4e+04\n",
      "job_title_Research Scientist          3.315e+04   6496.033      5.103      0.000    2.04e+04    4.59e+04\n",
      "==============================================================================\n",
      "Omnibus:                      528.170   Durbin-Watson:                   2.011\n",
      "Prob(Omnibus):                  0.000   Jarque-Bera (JB):             1382.175\n",
      "Skew:                           0.950   Prob(JB):                    7.32e-301\n",
      "Kurtosis:                       5.727   Cond. No.                         33.7\n",
      "==============================================================================\n",
      "\n",
      "Notes:\n",
      "[1] Standard Errors assume that the covariance matrix of the errors is correctly specified.\n"
     ]
    }
   ],
   "source": [
    "# Create a new model \n",
    "olsmodel3 = sm.OLS(y_train, x_train3).fit()\n",
    "\n",
    "#Get the model summary \n",
    "print(olsmodel3.summary())"
   ]
  },
  {
   "cell_type": "code",
   "execution_count": 44,
   "id": "f54ddee3",
   "metadata": {},
   "outputs": [
    {
     "data": {
      "text/html": [
       "<div>\n",
       "<style scoped>\n",
       "    .dataframe tbody tr th:only-of-type {\n",
       "        vertical-align: middle;\n",
       "    }\n",
       "\n",
       "    .dataframe tbody tr th {\n",
       "        vertical-align: top;\n",
       "    }\n",
       "\n",
       "    .dataframe thead th {\n",
       "        text-align: right;\n",
       "    }\n",
       "</style>\n",
       "<table border=\"1\" class=\"dataframe\">\n",
       "  <thead>\n",
       "    <tr style=\"text-align: right;\">\n",
       "      <th></th>\n",
       "      <th>RMSE</th>\n",
       "      <th>MAE</th>\n",
       "      <th>R-squared</th>\n",
       "      <th>Adj. R-squared</th>\n",
       "      <th>MAPE</th>\n",
       "      <th>MSE</th>\n",
       "    </tr>\n",
       "  </thead>\n",
       "  <tbody>\n",
       "    <tr>\n",
       "      <th>0</th>\n",
       "      <td>50899.79552</td>\n",
       "      <td>37390.516696</td>\n",
       "      <td>0.356987</td>\n",
       "      <td>0.33937</td>\n",
       "      <td>38.958675</td>\n",
       "      <td>2.590789e+09</td>\n",
       "    </tr>\n",
       "  </tbody>\n",
       "</table>\n",
       "</div>"
      ],
      "text/plain": [
       "          RMSE           MAE  R-squared  Adj. R-squared       MAPE  \\\n",
       "0  50899.79552  37390.516696   0.356987         0.33937  38.958675   \n",
       "\n",
       "            MSE  \n",
       "0  2.590789e+09  "
      ]
     },
     "execution_count": 44,
     "metadata": {},
     "output_type": "execute_result"
    }
   ],
   "source": [
    "lin_reg_test3 = model_performance_regression(olsmodel3, x_test3, y_test)\n",
    "lin_reg_test3"
   ]
  },
  {
   "cell_type": "code",
   "execution_count": 45,
   "id": "c98318a9",
   "metadata": {},
   "outputs": [
    {
     "name": "stdout",
     "output_type": "stream",
     "text": [
      "VIF Scores: \n",
      "\n",
      "const                                   46.045652\n",
      "work_year                                1.188503\n",
      "company_size_S                           1.173520\n",
      "employment_type_FL                       1.024867\n",
      "experience_level_EX                      1.371799\n",
      "experience_level_MI                      2.855484\n",
      "experience_level_SE                      3.243669\n",
      "company_location_ES                      1.531071\n",
      "company_location_FR                      1.249611\n",
      "company_location_GB                      2.134828\n",
      "company_location_IN                      1.378080\n",
      "company_location_OTHER                   2.468461\n",
      "company_location_US                      4.361017\n",
      "job_title_Applied Scientist              1.014291\n",
      "job_title_Data Analyst                   1.057588\n",
      "job_title_Data Science Manager           1.011192\n",
      "job_title_Machine Learning Engineer      1.039952\n",
      "job_title_Machine Learning Scientist     1.024926\n",
      "job_title_Research Engineer              1.020175\n",
      "job_title_Research Scientist             1.016387\n",
      "dtype: float64\n",
      "\n"
     ]
    }
   ],
   "source": [
    "vif_series = pd.Series(\n",
    "    [variance_inflation_factor(x_train3,i) for i in range (x_train3.shape[1])],\n",
    "    index = x_train3.columns,\n",
    "    dtype=float)\n",
    "\n",
    "print(\"VIF Scores: \\n\\n{}\\n\".format(vif_series))"
   ]
  },
  {
   "cell_type": "markdown",
   "id": "5f3e0d8b",
   "metadata": {},
   "source": [
    "<p><b>Observations</b>:\n",
    "    <ol>\n",
    "        <li> All the VIF Scores are now less than 5 indicating no ulticollinearity </li>\n",
    "        <li> Now, all the p-value are lesser than 0.05 implying all the current variables are significant for the model</li>\n",
    "        <li> The R-squared value did not change by much which implies that all other variables were not adding any value to the model </li>\n",
    "    </ol>\n",
    "</p>"
   ]
  },
  {
   "cell_type": "markdown",
   "id": "901e90e3",
   "metadata": {},
   "source": [
    "<h2> Checking for the assumptions and rebuilding the model </h2>\n",
    "<p> In this step, we will check if the below assumptions hold true or not for the model. In case there is an issue, we will rebuild the model after fixing those issues.\n",
    "    <ol>\n",
    "        <li> Mean of residual should be 0 </li>\n",
    "        <li> Normality of error terms </li>\n",
    "        <li> Linearity of variables </li>\n",
    "        <li> no heteroscedasticity </li>\n",
    "    </ol>\n",
    "</p>"
   ]
  },
  {
   "cell_type": "markdown",
   "id": "02cbffbd",
   "metadata": {},
   "source": [
    "<b> Mean of residuals should be 0 and normality of error terms </b>"
   ]
  },
  {
   "cell_type": "code",
   "execution_count": 46,
   "id": "4abb1f65",
   "metadata": {},
   "outputs": [],
   "source": [
    "# Residuals\n",
    "residuals = olsmodel3.resid"
   ]
  },
  {
   "cell_type": "code",
   "execution_count": 47,
   "id": "84dcfd2f",
   "metadata": {},
   "outputs": [
    {
     "data": {
      "text/plain": [
       "-3.937349100404986e-11"
      ]
     },
     "execution_count": 47,
     "metadata": {},
     "output_type": "execute_result"
    }
   ],
   "source": [
    "residuals.mean()"
   ]
  },
  {
   "cell_type": "markdown",
   "id": "d603d3a9",
   "metadata": {},
   "source": [
    "<p><b>Observations </b>: The mean of residuals is very close to 0 </p>"
   ]
  },
  {
   "cell_type": "markdown",
   "id": "aa3f3807",
   "metadata": {},
   "source": [
    "<p><b> Test for Normality </b></p>\n",
    "<p> What is the test?\n",
    "    <ol>\n",
    "        <li> Error terms/residuals should be normally distributed. </li>\n",
    "        <li> If the error terms ar enon-normally distributed, confidence intervals may become too wide or narrow. Once the confidence interval becomes unstable, it leads to difficulty in estimating coefficients based on the minimization of least squares. </li>\n",
    "   </ol>\n",
    "</p>\n",
    "<p> What does non-normality indicate ? \n",
    "    <ol>\n",
    "        <li> It suggest that there are few unusual data points that must be studied closely to make a better model </li>\n",
    "    </ol>\n",
    "</p>\n",
    "<p> How to check the normality? \n",
    "    <ol>\n",
    "        <li> We can plot the histogram of residuals and check the distribution visually </li>\n",
    "        <li> It can be checked via QQ Plot. Residuals following normal distribution will make a straight line plot otherwise not. </li>\n",
    "        <li> Another test to check for normality: The Shapiro-Wilk test. </li>\n",
    "    </ol>\n",
    "</p>\n",
    "<p> What if the residuals are not-normal?\n",
    "    <ol>\n",
    "        <li> We can apply transformations like log, exponential, arcsin etc </li>\n",
    "    </ol>\n",
    "</p>"
   ]
  },
  {
   "cell_type": "code",
   "execution_count": 48,
   "id": "c37c03dd",
   "metadata": {},
   "outputs": [
    {
     "data": {
      "image/png": "[encoded data removed]",
      "text/plain": [
       "<Figure size 640x480 with 1 Axes>"
      ]
     },
     "metadata": {},
     "output_type": "display_data"
    }
   ],
   "source": [
    "# Plot histogram of residuals \n",
    "\n",
    "sns.histplot(residuals, kde= True)\n",
    "\n",
    "plt.title(\"Residuals distribution\")\n",
    "\n",
    "plt.show()"
   ]
  },
  {
   "cell_type": "markdown",
   "id": "c855d326",
   "metadata": {},
   "source": [
    "<p><b>Observations</b>: We can see that the errir terms are normally distributed. The assumption of normality is satisfied </p>"
   ]
  },
  {
   "cell_type": "markdown",
   "id": "a6e56a8d",
   "metadata": {},
   "source": [
    "<p> <b> Linearity of Variables </b></p>\n",
    "<p> It states that the predictor variables must have a linear relation with the dependent variable. </p>\n",
    "<p> To test this assumption, we'll plot the residuals and the fitted values and ensure that residuals do not form a strong pattern. They should be randomly and uniformly scattered on the x-axis. </p>"
   ]
  },
  {
   "cell_type": "code",
   "execution_count": 49,
   "id": "333c814e",
   "metadata": {},
   "outputs": [
    {
     "data": {
      "image/png": "[encoded data removed]",
      "text/plain": [
       "<Figure size 640x480 with 1 Axes>"
      ]
     },
     "metadata": {},
     "output_type": "display_data"
    }
   ],
   "source": [
    "# Predicted values \n",
    "\n",
    "fitted = olsmodel3.fittedvalues\n",
    "\n",
    "sns.residplot(x = fitted, y= residuals,  color=\"lightblue\")\n",
    "\n",
    "plt.xlabel(\"Fitted Values\")\n",
    "\n",
    "plt.ylabel(\"Residuals\")\n",
    "\n",
    "plt.title(\"Residual PLOT\")\n",
    "\n",
    "plt.show()"
   ]
  },
  {
   "cell_type": "markdown",
   "id": "33d47e4d",
   "metadata": {},
   "source": [
    "<p><b> Observations;</b>\n",
    "    <ol>\n",
    "        <li> We can see that there is some pattern in fitted values and residuals, the residuals are not randomly distributed </li>\n",
    "        <li> Let's try to fix this. We can apply the log transformation on the target variable and try to build a new model</li>\n",
    "    </ol>\n",
    "</p>"
   ]
  },
  {
   "cell_type": "code",
   "execution_count": 50,
   "id": "6a037367",
   "metadata": {},
   "outputs": [],
   "source": [
    "# Log transformation on the target variable \n",
    "\n",
    "train_target_log= np.log(y_train)"
   ]
  },
  {
   "cell_type": "code",
   "execution_count": 51,
   "id": "397e5cd8",
   "metadata": {},
   "outputs": [],
   "source": [
    "# Fitting new model with the transformed target variable \n",
    "olsmodel4 = sm.OLS(train_target_log, x_train3)\n",
    "\n",
    "olsmodel4 = olsmodel4.fit()"
   ]
  },
  {
   "cell_type": "code",
   "execution_count": 52,
   "id": "e6608154",
   "metadata": {},
   "outputs": [
    {
     "data": {
      "image/png": "[encoded data removed]",
      "text/plain": [
       "<Figure size 640x480 with 1 Axes>"
      ]
     },
     "metadata": {},
     "output_type": "display_data"
    }
   ],
   "source": [
    "# Predicted values \n",
    "\n",
    "fitted = olsmodel4.fittedvalues\n",
    "\n",
    "residuals = olsmodel4.resid\n",
    "\n",
    "sns.residplot(x = fitted, y= residuals,  color=\"lightblue\")\n",
    "\n",
    "plt.xlabel(\"Fitted Values\")\n",
    "\n",
    "plt.ylabel(\"Residuals\")\n",
    "\n",
    "plt.title(\"Residual PLOT\")\n",
    "\n",
    "plt.show()"
   ]
  },
  {
   "cell_type": "code",
   "execution_count": 53,
   "id": "61d5ee87",
   "metadata": {},
   "outputs": [
    {
     "name": "stdout",
     "output_type": "stream",
     "text": [
      "                            OLS Regression Results                            \n",
      "==============================================================================\n",
      "Dep. Variable:          salary_in_usd   R-squared:                       0.562\n",
      "Model:                            OLS   Adj. R-squared:                  0.559\n",
      "Method:                 Least Squares   F-statistic:                     201.1\n",
      "Date:                Wed, 21 Jun 2023   Prob (F-statistic):               0.00\n",
      "Time:                        11:00:56   Log-Likelihood:                -1435.5\n",
      "No. Observations:                3004   AIC:                             2911.\n",
      "Df Residuals:                    2984   BIC:                             3031.\n",
      "Df Model:                          19                                         \n",
      "Covariance Type:            nonrobust                                         \n",
      "========================================================================================================\n",
      "                                           coef    std err          t      P>|t|      [0.025      0.975]\n",
      "--------------------------------------------------------------------------------------------------------\n",
      "const                                   11.0191      0.048    227.331      0.000      10.924      11.114\n",
      "work_year                                0.1430      0.033      4.284      0.000       0.078       0.208\n",
      "company_size_S                          -0.2067      0.040     -5.188      0.000      -0.285      -0.129\n",
      "employment_type_FL                      -0.5330      0.140     -3.798      0.000      -0.808      -0.258\n",
      "experience_level_EX                      0.7913      0.048     16.468      0.000       0.697       0.886\n",
      "experience_level_MI                      0.3173      0.030     10.751      0.000       0.259       0.375\n",
      "experience_level_SE                      0.5515      0.027     20.160      0.000       0.498       0.605\n",
      "company_location_ES                     -0.7230      0.062    -11.721      0.000      -0.844      -0.602\n",
      "company_location_FR                     -0.3956      0.082     -4.844      0.000      -0.556      -0.235\n",
      "company_location_GB                     -0.1873      0.051     -3.692      0.000      -0.287      -0.088\n",
      "company_location_IN                     -1.3443      0.071    -19.042      0.000      -1.483      -1.206\n",
      "company_location_OTHER                  -0.5612      0.047    -11.990      0.000      -0.653      -0.469\n",
      "company_location_US                      0.2540      0.038      6.669      0.000       0.179       0.329\n",
      "job_title_Applied Scientist              0.2478      0.061      4.045      0.000       0.128       0.368\n",
      "job_title_Data Analyst                  -0.2347      0.020    -11.646      0.000      -0.274      -0.195\n",
      "job_title_Data Science Manager           0.2906      0.057      5.073      0.000       0.178       0.403\n",
      "job_title_Machine Learning Engineer      0.1498      0.027      5.522      0.000       0.097       0.203\n",
      "job_title_Machine Learning Scientist     0.2007      0.083      2.420      0.016       0.038       0.363\n",
      "job_title_Research Engineer              0.2490      0.076      3.257      0.001       0.099       0.399\n",
      "job_title_Research Scientist             0.2554      0.053      4.839      0.000       0.152       0.359\n",
      "==============================================================================\n",
      "Omnibus:                      460.767   Durbin-Watson:                   2.034\n",
      "Prob(Omnibus):                  0.000   Jarque-Bera (JB):             1939.189\n",
      "Skew:                          -0.693   Prob(JB):                         0.00\n",
      "Kurtosis:                       6.684   Cond. No.                         33.7\n",
      "==============================================================================\n",
      "\n",
      "Notes:\n",
      "[1] Standard Errors assume that the covariance matrix of the errors is correctly specified.\n"
     ]
    }
   ],
   "source": [
    "print(olsmodel4.summary())"
   ]
  },
  {
   "cell_type": "markdown",
   "id": "e56bee04",
   "metadata": {},
   "source": [
    "<p> The model performance has improved significally. The R-squared has increased from 0.41 to 0.56 </p>"
   ]
  },
  {
   "cell_type": "markdown",
   "id": "3d765c29",
   "metadata": {},
   "source": [
    "<p><b> No Heteroscedasticity </b></p>\n",
    "<p><b> Test for Homoscedasticity </b></p>\n",
    "<ol>\n",
    "    <li> Homoscedasticity: If the variance pf the residuals are symmetrically distributed across the regression line, then the data is said to homoscedasticity </li>\n",
    "    <li> Heteroscedasticity: If the varianceg is unequal across the regression line, then the data is said to ben heteroscedastic. In this case, the residuals can form an arrow shape or any other non symmetric shape. </li>\n",
    "    <li> We will use Goldfeld-Quandt test to check homoscedasticity:\n",
    "        <ol>\n",
    "            <li> Null hypothesis: Residuals are homoscedastic </li>\n",
    "            <li> Alternative hypothesis: Residuals are hetroscedastic </li>\n",
    "        </ol>\n",
    "    </li>\n",
    "</ol>"
   ]
  },
  {
   "cell_type": "code",
   "execution_count": 54,
   "id": "df413da4",
   "metadata": {},
   "outputs": [],
   "source": [
    "from statsmodels.stats.diagnostic import het_white\n",
    "from statsmodels.compat import lzip\n",
    "import statsmodels.stats.api as sms"
   ]
  },
  {
   "cell_type": "code",
   "execution_count": 55,
   "id": "2ae01496",
   "metadata": {},
   "outputs": [
    {
     "data": {
      "text/plain": [
       "[('F statistic', 1.0280095605442363), ('p-value', 0.297491832143344)]"
      ]
     },
     "execution_count": 55,
     "metadata": {},
     "output_type": "execute_result"
    }
   ],
   "source": [
    "name = [\"F statistic\", \"p-value\"]\n",
    "test = sms.het_goldfeldquandt(train_target_log, x_train3)\n",
    "\n",
    "lzip(name, test)"
   ]
  },
  {
   "cell_type": "markdown",
   "id": "aa5772d7",
   "metadata": {},
   "source": [
    "<p> As we observe from the above test, the p-value is greater than 0.05, so we fail to reject the null-hypothesis. That means the residuals are homoscedastic. </p>\n",
    "<p> Let's go evaluate the model we just created using the test data</p>"
   ]
  },
  {
   "cell_type": "code",
   "execution_count": 56,
   "id": "bc4cba64",
   "metadata": {},
   "outputs": [
    {
     "data": {
      "text/html": [
       "<div>\n",
       "<style scoped>\n",
       "    .dataframe tbody tr th:only-of-type {\n",
       "        vertical-align: middle;\n",
       "    }\n",
       "\n",
       "    .dataframe tbody tr th {\n",
       "        vertical-align: top;\n",
       "    }\n",
       "\n",
       "    .dataframe thead th {\n",
       "        text-align: right;\n",
       "    }\n",
       "</style>\n",
       "<table border=\"1\" class=\"dataframe\">\n",
       "  <thead>\n",
       "    <tr style=\"text-align: right;\">\n",
       "      <th></th>\n",
       "      <th>RMSE</th>\n",
       "      <th>MAE</th>\n",
       "      <th>R-squared</th>\n",
       "      <th>Adj. R-squared</th>\n",
       "      <th>MAPE</th>\n",
       "      <th>MSE</th>\n",
       "    </tr>\n",
       "  </thead>\n",
       "  <tbody>\n",
       "    <tr>\n",
       "      <th>0</th>\n",
       "      <td>0.414442</td>\n",
       "      <td>0.297519</td>\n",
       "      <td>0.546363</td>\n",
       "      <td>0.533934</td>\n",
       "      <td>2.603638</td>\n",
       "      <td>0.171762</td>\n",
       "    </tr>\n",
       "  </tbody>\n",
       "</table>\n",
       "</div>"
      ],
      "text/plain": [
       "       RMSE       MAE  R-squared  Adj. R-squared      MAPE       MSE\n",
       "0  0.414442  0.297519   0.546363        0.533934  2.603638  0.171762"
      ]
     },
     "execution_count": 56,
     "metadata": {},
     "output_type": "execute_result"
    }
   ],
   "source": [
    "lin_reg_test4 = model_performance_regression(olsmodel4, x_test3, np.log(y_test))\n",
    "lin_reg_test4"
   ]
  },
  {
   "cell_type": "markdown",
   "id": "af19b45b",
   "metadata": {},
   "source": [
    "<p><mark> Below, we are checking the cross-validation score to identify if the model that we have built is underfitted, overfitted or just right fit model. </mark></p>"
   ]
  },
  {
   "cell_type": "code",
   "execution_count": 57,
   "id": "6c704e33",
   "metadata": {},
   "outputs": [
    {
     "name": "stdout",
     "output_type": "stream",
     "text": [
      "R-Squared: 0.549 (+/- 0.071)\n",
      "Mean Squared Error: 0.156 (+/- 0.027)\n"
     ]
    }
   ],
   "source": [
    "#Fitting linear model \n",
    "\n",
    "from sklearn.linear_model import LinearRegression\n",
    "from sklearn.model_selection import cross_val_score\n",
    "\n",
    "linearregression = LinearRegression()\n",
    "\n",
    "cv_score11 = cross_val_score(linearregression, x_train3, train_target_log, cv=10)\n",
    "\n",
    "cv_score12 = cross_val_score(linearregression, x_train3, train_target_log, cv=10,\n",
    "                            scoring='neg_mean_squared_error')\n",
    "\n",
    "print(\"R-Squared: %0.3f (+/- %0.3f)\" % (cv_score11.mean(), cv_score11.std()*2))\n",
    "print(\"Mean Squared Error: %0.3f (+/- %0.3f)\" %(-1*cv_score12.mean(), cv_score12.std()*2))"
   ]
  },
  {
   "cell_type": "markdown",
   "id": "4fc8eba0",
   "metadata": {},
   "source": [
    "<p><b> Observations:</b>\n",
    "    <ol> \n",
    "        <li> The R-Squared on the cross-validation is 0.549 which is almost similar to the R-Squared on the training dataset. </li>\n",
    "        <li> The MSE on cross-validation is 0.156 which is almost similar to the MSE on the training dataset. </li>\n",
    "    </ol>\n",
    "</p>\n",
    "<p> It seems like that our models is just right fit. It is giving a generalized performance. </p>"
   ]
  },
  {
   "cell_type": "markdown",
   "id": "e2db49f6",
   "metadata": {},
   "source": [
    "<h3> Other Models </h3>\n",
    "<p>We try to create more complex models with the goal of increasing modeling performance. \n",
    "We are going to test two additional models :\n",
    "    <ol>\n",
    "        <li> Ridge Regression </li>\n",
    "        <li> Decision Tree Regressor : we may have issues, as this model requires a large amount of data to work properly. But it could help us capture nonlinearities that we would otherwise fail to capture using linear modeling.</li>\n",
    "    </ol>\n",
    "</p>"
   ]
  },
  {
   "cell_type": "markdown",
   "id": "91ae5503",
   "metadata": {},
   "source": [
    "<h5> Ridge Regression </h5>"
   ]
  },
  {
   "cell_type": "code",
   "execution_count": 58,
   "id": "4ea837d5",
   "metadata": {},
   "outputs": [],
   "source": [
    "ridge = Ridge()"
   ]
  },
  {
   "cell_type": "code",
   "execution_count": 59,
   "id": "b6e03a74",
   "metadata": {},
   "outputs": [
    {
     "name": "stdout",
     "output_type": "stream",
     "text": [
      "    Data      RMSE       MAE      MAPE\n",
      "0  Train  0.390277  0.287820  2.510819\n",
      "1   Test  0.414208  0.297636  2.605324\n"
     ]
    }
   ],
   "source": [
    "ridge.fit(x_train3, np.log(y_train))\n",
    "\n",
    "model_pref(ridge, x_train3, x_test3, np.log(y_train), np.log(y_test))"
   ]
  },
  {
   "cell_type": "code",
   "execution_count": 60,
   "id": "07ef8d2d",
   "metadata": {},
   "outputs": [
    {
     "data": {
      "text/html": [
       "<div>\n",
       "<style scoped>\n",
       "    .dataframe tbody tr th:only-of-type {\n",
       "        vertical-align: middle;\n",
       "    }\n",
       "\n",
       "    .dataframe tbody tr th {\n",
       "        vertical-align: top;\n",
       "    }\n",
       "\n",
       "    .dataframe thead th {\n",
       "        text-align: right;\n",
       "    }\n",
       "</style>\n",
       "<table border=\"1\" class=\"dataframe\">\n",
       "  <thead>\n",
       "    <tr style=\"text-align: right;\">\n",
       "      <th></th>\n",
       "      <th>RMSE</th>\n",
       "      <th>MAE</th>\n",
       "      <th>R-squared</th>\n",
       "      <th>Adj. R-squared</th>\n",
       "      <th>MAPE</th>\n",
       "      <th>MSE</th>\n",
       "    </tr>\n",
       "  </thead>\n",
       "  <tbody>\n",
       "    <tr>\n",
       "      <th>0</th>\n",
       "      <td>0.414208</td>\n",
       "      <td>0.297636</td>\n",
       "      <td>0.546874</td>\n",
       "      <td>0.53446</td>\n",
       "      <td>2.605324</td>\n",
       "      <td>0.171569</td>\n",
       "    </tr>\n",
       "  </tbody>\n",
       "</table>\n",
       "</div>"
      ],
      "text/plain": [
       "       RMSE       MAE  R-squared  Adj. R-squared      MAPE       MSE\n",
       "0  0.414208  0.297636   0.546874         0.53446  2.605324  0.171569"
      ]
     },
     "execution_count": 60,
     "metadata": {},
     "output_type": "execute_result"
    }
   ],
   "source": [
    "ridge_regression_perf_test = model_performance_regression(ridge, x_test3, np.log(y_test))\n",
    "\n",
    "ridge_regression_perf_test"
   ]
  },
  {
   "cell_type": "markdown",
   "id": "cf80ef52",
   "metadata": {},
   "source": [
    "<p>Ridge regression is producing similar results in comparison to Linear Regression without regularization.\n",
    "\n",
    "There is some scope to improve the model's performance, as there is a feeling that we are not able to fully model the relationship using linear models.\n",
    "\n",
    "Let's now build Non-Linear Regression models like Decision Tree Regressors and Random Forest Regressors and check their performance.</p>"
   ]
  },
  {
   "cell_type": "markdown",
   "id": "c9feb960",
   "metadata": {},
   "source": [
    "<h5> Decision Tree Regressor </h5>"
   ]
  },
  {
   "cell_type": "code",
   "execution_count": 63,
   "id": "0572b7c4",
   "metadata": {},
   "outputs": [
    {
     "data": {
      "text/html": [
       "<div>\n",
       "<style scoped>\n",
       "    .dataframe tbody tr th:only-of-type {\n",
       "        vertical-align: middle;\n",
       "    }\n",
       "\n",
       "    .dataframe tbody tr th {\n",
       "        vertical-align: top;\n",
       "    }\n",
       "\n",
       "    .dataframe thead th {\n",
       "        text-align: right;\n",
       "    }\n",
       "</style>\n",
       "<table border=\"1\" class=\"dataframe\">\n",
       "  <thead>\n",
       "    <tr style=\"text-align: right;\">\n",
       "      <th></th>\n",
       "      <th>RMSE</th>\n",
       "      <th>MAE</th>\n",
       "      <th>R-squared</th>\n",
       "      <th>Adj. R-squared</th>\n",
       "      <th>MAPE</th>\n",
       "      <th>MSE</th>\n",
       "    </tr>\n",
       "  </thead>\n",
       "  <tbody>\n",
       "    <tr>\n",
       "      <th>0</th>\n",
       "      <td>0.441634</td>\n",
       "      <td>0.309148</td>\n",
       "      <td>0.484882</td>\n",
       "      <td>0.470769</td>\n",
       "      <td>2.713781</td>\n",
       "      <td>0.195041</td>\n",
       "    </tr>\n",
       "  </tbody>\n",
       "</table>\n",
       "</div>"
      ],
      "text/plain": [
       "       RMSE       MAE  R-squared  Adj. R-squared      MAPE       MSE\n",
       "0  0.441634  0.309148   0.484882        0.470769  2.713781  0.195041"
      ]
     },
     "execution_count": 63,
     "metadata": {},
     "output_type": "execute_result"
    }
   ],
   "source": [
    "# Decision Tree Regressor\n",
    "dt_regressor = DecisionTreeRegressor(random_state= 1)\n",
    "\n",
    "# Fitting the model \n",
    "dt_regressor.fit(x_train3, np.log(y_train))\n",
    "\n",
    "# Model performance on test data i.e. prediction \n",
    "dt_regressor_perf_test = model_performance_regression(dt_regressor, x_test3, np.log(y_test))\n",
    "\n",
    "dt_regressor_perf_test"
   ]
  },
  {
   "cell_type": "markdown",
   "id": "bb0231c3",
   "metadata": {},
   "source": [
    "<p><b> Observations </b>: as we assumed earlier we could not best model the data using a nonlinear model, the reason may be related to the fact that we have a small amount of data and that it is not enough to best train this type of model.</p>"
   ]
  },
  {
   "cell_type": "markdown",
   "id": "ad68358b",
   "metadata": {},
   "source": [
    "<h2> Conclusion </h2>\n",
    "<p>In conclusion, we can say that we have created a robust model but one that does not capture all the variability of the target variable. Among the models that have been created, the one with better performance is linear regression, which generalizes the situation quite well and can explain the variability of the data quite well. </p>\n",
    "<p>To improve the situation, it is recommended that many more data be collected so that increasingly robust models can be built. In addition, improvements could be made with regard to modeling, in fact clusters could be created for the variables \"company_location,\" \"job_title,\" and \"employee_location\" so that clusters could be created as homogeneous as possible and information could be added that would be useful in explaining the target variable.</p>"
   ]
  }
 ],
 "metadata": {
  "kernelspec": {
   "display_name": "Python 3 (ipykernel)",
   "language": "python",
   "name": "python3"
  },
  "language_info": {
   "codemirror_mode": {
    "name": "ipython",
    "version": 3
   },
   "file_extension": ".py",
   "mimetype": "text/x-python",
   "name": "python",
   "nbconvert_exporter": "python",
   "pygments_lexer": "ipython3",
   "version": "3.10.9"
  }
 },
 "nbformat": 4,
 "nbformat_minor": 5
}
